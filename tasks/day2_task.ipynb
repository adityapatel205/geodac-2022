{
 "cells": [
  {
   "cell_type": "markdown",
   "id": "ef883e4d",
   "metadata": {},
   "source": [
    "## Day 2 Task: Creating a map from data.\n",
    "\n",
    "This task is to teach you how to bring data from a satellite file and locate it on a map of the Earth. Much of the heavy lifting here is done within the basemap or cartopy libraries (see notebooks/cartopyGuide.ipynb for examples). But working with geospatial data invariably means you need to show where the data exists on a map."
   ]
  },
  {
   "cell_type": "code",
   "execution_count": null,
   "id": "a276f91f",
   "metadata": {},
   "outputs": [],
   "source": [
    "# Libraries used\n",
    "\n",
    "import numpy as np\n",
    "import netCDF4 as nc4\n",
    "from netCDF4 import Dataset"
   ]
  },
  {
   "cell_type": "markdown",
   "id": "2dda45ae",
   "metadata": {},
   "source": [
    "### Reading a NetCDF file\n",
    "\n",
    "This will be similar to what we did earlier with HDF files. Our example file today comes from the TROPOMI instrument."
   ]
  },
  {
   "cell_type": "code",
   "execution_count": null,
   "id": "1ca6af91",
   "metadata": {},
   "outputs": [],
   "source": [
    "\n",
    "my_example_nc_file = 'S5P_OFFL_L2__NO2____20220116T180124_20220116T194254_22081_02_020301_20220118T102523.nc'\n",
    "fh = Dataset(my_example_nc_file, mode='r')\n",
    "print (fh)\n"
   ]
  },
  {
   "cell_type": "markdown",
   "id": "6ff7a697",
   "metadata": {},
   "source": [
    "### Getting groups and subgroups in NetCDF\n",
    "\n",
    "The print statement above will have produced a long set of attributes containing information about the file (when it was created, what version of the algorithm was used, ...). But we want to get some data! Let's look at the top-level groups and one level beneath that. The output is slightly different from what we saw with the HDF example, but it is close enough that you should get the general idea."
   ]
  },
  {
   "cell_type": "code",
   "execution_count": null,
   "id": "36a4370b",
   "metadata": {},
   "outputs": [],
   "source": [
    "print (fh.groups)\n",
    "\n",
    "print (fh.groups['PRODUCT'])\n"
   ]
  },
  {
   "cell_type": "markdown",
   "id": "41d039d9",
   "metadata": {},
   "source": [
    "### Finding the data values needed to make a map\n",
    "\n",
    "If we want a simple map, we probably want to know where our data is located (its latitude and longitude), and then some data values to put into the map (we will use \"nitrogendioxide_tropospheric_column\" as an example). First we will list out the names of the variables contained in our \"PRODUCT\" group, then select the ones we would like and read them into our code."
   ]
  },
  {
   "cell_type": "code",
   "execution_count": null,
   "id": "4b0d7404",
   "metadata": {},
   "outputs": [],
   "source": [
    "print (fh.groups['PRODUCT'].variables.keys())\n",
    "\n",
    "#By printing the .variables.keys() we can see that this .nc file has the following variables:"
   ]
  },
  {
   "cell_type": "code",
   "execution_count": null,
   "id": "19695dd1",
   "metadata": {},
   "outputs": [],
   "source": [
    "# If we select one of these variables, say the ‘nitrogendioxide_tropospheric_column’ using this command\n",
    "\n",
    "print (fh.groups['PRODUCT'].variables['nitrogendioxide_tropospheric_column'])\n",
    "\n",
    "# we can see attributes about this variable"
   ]
  },
  {
   "cell_type": "code",
   "execution_count": null,
   "id": "5e0563d9",
   "metadata": {},
   "outputs": [],
   "source": [
    "# NetCDF variables read in directly as numpy arrays, which we can slice as usual\n",
    "# We select the 0 index in the first dimension because we only want the first \"time\" element\n",
    "# (there is only one of these anyhow!)\n",
    "\n",
    "lons = fh.groups['PRODUCT'].variables['longitude'][:][0,3000:3500,:]\n",
    "lats = fh.groups['PRODUCT'].variables['latitude'][:][0,3000:3500,:]\n",
    "no2 = fh.groups['PRODUCT'].variables['nitrogendioxide_tropospheric_column'][0,3000:3500,:]\n",
    "\n",
    "# All our arrays should have the same shape at this point\n",
    "\n",
    "print (lons.shape)\n",
    "print (lats.shape)\n",
    "print (no2.shape)"
   ]
  },
  {
   "cell_type": "code",
   "execution_count": null,
   "id": "f37d298f",
   "metadata": {},
   "outputs": [],
   "source": [
    "no2_units = fh.groups['PRODUCT'].variables['nitrogendioxide_tropospheric_column'].units\n",
    "# this line gets the units of NO2 so we can add it to the plot later on\n",
    "print (no2_units)"
   ]
  },
  {
   "cell_type": "markdown",
   "id": "65429de4",
   "metadata": {},
   "source": [
    "### Let's make a map!\n",
    "\n",
    "Now we can create an instance of our map and start to plot things on it. The mapping library (cartopy) has many features that can be added here, including colorbars, gridlines, geographical features like country borders, and more."
   ]
  },
  {
   "cell_type": "code",
   "execution_count": null,
   "id": "7a88c208",
   "metadata": {},
   "outputs": [],
   "source": [
    "import cartopy.crs as ccrs\n",
    "import matplotlib as mpl\n",
    "import matplotlib.pyplot as plt\n",
    "\n",
    "fig = plt.figure()\n",
    "\n",
    "ax = plt.axes(projection=ccrs.PlateCarree())\n",
    "\n",
    "cmap = mpl.cm.Oranges\n",
    "norm = mpl.colors.Normalize(vmin=0, vmax=0.001)\n",
    "\n",
    "# note that we transform our data with the same projection as we are plotting\n",
    "mesh = plt.pcolormesh(lons, lats, no2, shading='nearest', cmap=cmap, norm=norm, transform=ccrs.PlateCarree())\n",
    "\n",
    "# Add a colorbar for the mesh\n",
    "fig.colorbar(mpl.cm.ScalarMappable(cmap=cmap, norm=norm), orientation='horizontal')\n",
    "\n",
    "ax.coastlines()\n",
    "\n",
    "ax.set_extent([-120, -70, 20, 50])\n",
    "\n",
    "plt.show()\n"
   ]
  },
  {
   "cell_type": "markdown",
   "id": "489b8b2d",
   "metadata": {},
   "source": [
    "## Try it yourself!\n",
    "\n",
    "#### 1. Open the example NetCDF file, or download your own from search.earthdata.nasa.gov\n",
    "\n",
    "    The example file is similar to the dataset called \"Sentinel-5P TROPOMI Tropospheric NO2 1-Orbit L2 5.5km x 3.5km V2 (S5P_L2__NO2____HiR) at GES DISC\"\n",
    "\n",
    "#### 2. Read the variables in your file and list them\n",
    "\n",
    "    The TROPOMI files contain many more datasets than the VIIRS files we saw earlier. This is partly because sensing the amount of gas in the atmosphere is a more complicated process than measuring the radiance at the surface. Explore different groups within the file. Can you find the dataset for water vapour slant column density?\n",
    "\n",
    "#### 3. Make a global map of \"water_slant_column_density\"\n",
    "\n",
    "    This is an intermediate step in getting the NO2 amount, but it is still an interesting thing to map. In the example above, we used set_extent() to clip the map axis to a specific latitude/longitude region. We also sliced the data, taking only scanlines 3000 to 3500. Try reading in all of the water column data and all of the latitude/longitude data, and plotting in on a global map. Does the satellite actually see more over the poles? Can you find a map projection that proves this is not the case?\n",
    "    \n",
    "#### 4. Make a regional map of nitrogen dioxide\n",
    "\n",
    "    Let's go back to the tropospheric vertical column of nitrogen dioxide (\"nitrogendioxide_tropospheric_column\"). What does this data look like over Alberta? Zoom your map way in to the point where you can see individual pixels (each is about 5.5 by 3.5 km). Try overlaying some map features (e.g. provincial borders, roads, rivers) to give your data some regional context.\n",
    "\n",
    "    What happens to the map over Alberta if you screen out data with a quality flag (\"qa_value\") less than 0.5?\n",
    "    \n",
    "    What if you plot the ratio of the signal (\"nitrogendioxide_tropospheric_column\") to its precision (\"nitrogendioxide_tropospheric_column_precision\")?\n",
    "    \n",
    "    Can you make a map where you use the latitude/longitude boundaries of each ground pixel instead of the latitude/longitude of the pixel centre?\n",
    "\n"
   ]
  },
  {
   "cell_type": "code",
   "execution_count": null,
   "id": "dd7d225e",
   "metadata": {},
   "outputs": [],
   "source": []
  }
 ],
 "metadata": {
  "kernelspec": {
   "display_name": "GEODACenv",
   "language": "python",
   "name": "geodacenv"
  },
  "language_info": {
   "codemirror_mode": {
    "name": "ipython",
    "version": 3
   },
   "file_extension": ".py",
   "mimetype": "text/x-python",
   "name": "python",
   "nbconvert_exporter": "python",
   "pygments_lexer": "ipython3",
   "version": "3.9.13"
  }
 },
 "nbformat": 4,
 "nbformat_minor": 5
}
