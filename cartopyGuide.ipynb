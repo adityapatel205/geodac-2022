{
 "cells": [
  {
   "cell_type": "markdown",
   "metadata": {},
   "source": [
    "# Cartopy\n",
    "\n",
    "- Introduction\n",
    "- Creating Simple Maps\n",
    "- Projections\n",
    "- Transform\n",
    "- Cartopy Features\n",
    "- Adding Text\n",
    "- Gridlines and Tick Labels\n",
    "- Custom Boundary Shapes\n",
    "- Plotting Data\n",
    "- Contour Plots\n",
    "- Images\n",
    "\n",
    "## Introduction\n",
    "\n",
    "The `cartopy.crs.CRS` class is the very core of cartopy, all coordinate reference systems in cartopy have `CRS` as a parent class, meaning all projections have the interface described below.\n",
    "\n",
    "#### *class* `cartopy.crs.CRS(proj4_params, globe=None)`\n",
    "\n",
    "Define a Coordinate Reference System using proj.\n",
    "\n",
    "`globe` The Globe instance of this CRS.\n",
    "\n",
    "`as_geocentric()` Return a new Geocentric CRS with the same ellipse/datum as this CRS.\n",
    "\n",
    "`as_geodetic()` Return a new Geodetic CRS with the same ellipse/datum as this CRS.\n",
    "\n",
    "`transform_point(x, y, src_crs)` Transform the given float64 coordinate pair, in the given source coordinate system (src_crs), to this coordinate system.\n",
    "\n",
    "Parameters:\n",
    "\n",
    "* x – the x coordinate, in src_crs coordinates, to transform\n",
    "* y – the y coordinate, in src_crs coordinates, to transform\n",
    "* src_crs – instance of CRS that represents the coordinate system of x and y.\n",
    "* trap – Whether proj errors for “latitude or longitude exceeded limits” and “tolerance condition error” should be trapped.\n",
    "\n",
    "Returns: (x, y) in this coordinate system\n",
    "\n",
    "`transform_points(src_crs, x, y[, z])` Transform the given coordinates, in the given source coordinate system (src_crs), to this coordinate system.\n",
    "\n",
    "Parameters:\n",
    "* src_crs – instance of CRS that represents the coordinate system of x, y and z.\n",
    "* x – the x coordinates (array), in src_crs coordinates, to transform. May be 1 or 2 dimensional.\n",
    "* y – the y coordinates (array), in src_crs coordinates, to transform. Its shape must match that of x.\n",
    "* z (optional) – the z coordinates (array), in src_crs coordinates, to transform. Defaults to None. If supplied, its shape must match that of x.\n",
    "* trap – Whether proj errors for “latitude or longitude exceeded limits” and “tolerance condition error” should be trapped.\n",
    "\n",
    "Returns: Array of shape x.shape + (3, ) in this coordinate system.\n",
    "\n",
    "`transform_vectors(src_proj, x, y, u, v)` Transform the given vector components, with coordinates in the given source coordinate system (src_proj), to this coordinate system. The vector components must be given relative to the source projection’s coordinate reference system (grid eastward and grid northward). x, y, u and v may be 1 or 2 dimensional, but must all have matching shapes. The algorithm used to transform vectors is an approximation rather than an exact transform, but the accuracy should be good enough for visualization purposes.\n",
    "\n",
    "Parameters: \n",
    "* src_proj – The CRS.Projection that represents the coordinate system the vectors are defined in.\n",
    "* x – The x coordinates of the vectors in the source projection.\n",
    "* y – The y coordinates of the vectors in the source projection.\n",
    "* u – The grid-eastward components of the vectors.\n",
    "* v – The grid-northward components of the vectors.\n",
    "\n",
    "Returns: ut, vt (The transformed vector components.)"
   ]
  },
  {
   "cell_type": "markdown",
   "metadata": {},
   "source": [
    "The Globe class is used to encapsulate the underlying sphere or ellipsoid of any cartopy CRS. All CRSs have an associated Globe, though often it is just the default Globe which represents the reference ellipsoid (i.e. “wgs84”).\n",
    "\n",
    "#### *class* `cartopy.crs.Globe(datum=None, ellipse='WGS84', semimajor_axis=None, semiminor_axis=None, flattening=None, inverse_flattening=None, towgs84=None, nadgrids=None)` \n",
    "\n",
    "Define an ellipsoid and, optionally, how to relate it to the real world.\n",
    "\n",
    "The most common CRS subclass is itself another abstract class; the cartopy.crs.Projection class represents a 2 dimensional coordinate system which could be drawn directly as a map (i.e. on a flat piece of paper). Projection is the parent class of all projections in the PlateCarree.\n",
    "\n",
    "`__init__(datum=None, ellipse='WGS84', semimajor_axis=None, semiminor_axis=None, flattening=None, inverse_flattening=None, towgs84=None, nadgrids=None)`\n",
    "\n",
    "Parameters:\n",
    "* datum – Proj “datum” definition. Defaults to None.\n",
    "* ellipse – Proj “ellps” definition. Defaults to ‘WGS84’.\n",
    "* semimajor_axis – Semimajor axis of the spheroid / ellipsoid. Defaults to None.\n",
    "* semiminor_axis – Semiminor axis of the ellipsoid. Defaults to None.\n",
    "* flattening – Flattening of the ellipsoid. Defaults to None.\n",
    "* inverse_flattening – Inverse flattening of the ellipsoid. Defaults to None.\n",
    "* towgs84 – Passed through to the Proj definition. Defaults to None.\n",
    "* nadgrids – Passed through to the Proj definition. Defaults to None."
   ]
  },
  {
   "cell_type": "markdown",
   "metadata": {},
   "source": [
    "#### *class* `cartopy.crs.Projection(*args, **kwargs)`\n",
    "Define a projected coordinate system with flat topology and Euclidean distance.\n",
    "\n",
    "`project_geometry(geometry, src_crs=None)`\n",
    "Project the given geometry into this projection.\n",
    "\n",
    "Parameters:\n",
    "\n",
    "* geometry – The geometry to (re-)project.\n",
    "* src_crs (optional) – The source CRS. Defaults to None. If src_crs is None, the source CRS is assumed to be a geodetic version of the target CRS.\n",
    "\n",
    "Returns: geometry – The projected result (a shapely geometry).\n",
    "\n",
    "`quick_vertices_transform(vertices, src_crs)` \n",
    "Where possible, return a vertices array transformed to this CRS from the given vertices array of shape (n, 2) and the source CRS. \n",
    "This method may return None to indicate that the vertices cannot be transformed quickly, and a more complex geometry transformation is required (see cartopy.crs.Projection.project_geometry()).\n",
    "\n",
    "There are a few non-Projection subclasses. These represent coordinate reference systems which are 3 dimensional and could not be drawn directly on a piece of paper."
   ]
  },
  {
   "cell_type": "markdown",
   "metadata": {},
   "source": [
    "#### *class* `cartopy.crs.Geodetic(globe=None)` \n",
    "Define a latitude/longitude coordinate system with spherical topology, geographical distance and coordinates are measured in degrees.\n",
    "\n",
    "#### *class* `cartopy.crs.Geocentric(globe=None)` \n",
    "Define a Geocentric coordinate system, where x, y, z are Cartesian coordinates from the center of the Earth.\n",
    "\n",
    "#### *class* `cartopy.crs.RotatedGeodetic(pole_longitude, pole_latitude, central_rotated_longitude=0.0, globe=None)` \n",
    "Define a rotated latitude/longitude coordinate system with spherical topology and geographical distance. Coordinates are measured in degrees. \n",
    "\n",
    "The class uses proj to perform an ob_tran operation, using the pole_longitude to set a lon_0 then performing two rotations based on pole_latitude and central_rotated_longitude. This is equivalent to setting the new pole to a location defined by the pole_latitude and pole_longitude values in the GeogCRS defined by globe, then rotating this new CRS about it’s pole using the central_rotated_longitude value.\n",
    "\n",
    "There is also a function for calling epsg.io with a specified code, returning the corresponding cartopy projection, see below.\n",
    "\n",
    "#### `cartopy.crs.epsg(code)`\n",
    "Return the projection which corresponds to the given EPSG code. The EPSG code must correspond to a “projected coordinate system”, so EPSG codes such as 4326 (WGS-84) which define a “geodetic coordinate system” will not work. The conversion is performed by pyproj.CRS."
   ]
  },
  {
   "cell_type": "markdown",
   "metadata": {},
   "source": [
    "## Creating Simple Maps\n",
    "Cartopy has exposed an interface to enable easy map creation using matplotlib. Creating a basic map is as simple as telling Matplotlib to use a specific map projection, and then adding some coastlines to the axes.\n",
    "\n",
    "The line `plt.axes(projection=ccrs.PlateCarree())` sets up a GeoAxes instance which exposes a variety of other map related methods, in the case of this example, we used the `coastlines()` method to add coastlines to the map.\n",
    "\n",
    "To save the figure, use Matplotlib’s `savefig()` function."
   ]
  },
  {
   "cell_type": "code",
   "execution_count": 1,
   "metadata": {},
   "outputs": [
    {
     "ename": "ModuleNotFoundError",
     "evalue": "No module named 'cartopy'",
     "output_type": "error",
     "traceback": [
      "\u001b[1;31m---------------------------------------------------------------------------\u001b[0m",
      "\u001b[1;31mModuleNotFoundError\u001b[0m                       Traceback (most recent call last)",
      "Input \u001b[1;32mIn [1]\u001b[0m, in \u001b[0;36m<cell line: 1>\u001b[1;34m()\u001b[0m\n\u001b[1;32m----> 1\u001b[0m \u001b[38;5;28;01mimport\u001b[39;00m \u001b[38;5;21;01mcartopy\u001b[39;00m\u001b[38;5;21;01m.\u001b[39;00m\u001b[38;5;21;01mcrs\u001b[39;00m \u001b[38;5;28;01mas\u001b[39;00m \u001b[38;5;21;01mccrs\u001b[39;00m\n\u001b[0;32m      2\u001b[0m \u001b[38;5;28;01mimport\u001b[39;00m \u001b[38;5;21;01mmatplotlib\u001b[39;00m\u001b[38;5;21;01m.\u001b[39;00m\u001b[38;5;21;01mpyplot\u001b[39;00m \u001b[38;5;28;01mas\u001b[39;00m \u001b[38;5;21;01mplt\u001b[39;00m\n\u001b[0;32m      4\u001b[0m ax \u001b[38;5;241m=\u001b[39m plt\u001b[38;5;241m.\u001b[39maxes(projection\u001b[38;5;241m=\u001b[39mccrs\u001b[38;5;241m.\u001b[39mPlateCarree())\n",
      "\u001b[1;31mModuleNotFoundError\u001b[0m: No module named 'cartopy'"
     ]
    }
   ],
   "source": [
    "import cartopy.crs as ccrs\n",
    "import matplotlib.pyplot as plt\n",
    "\n",
    "ax = plt.axes(projection=ccrs.PlateCarree())\n",
    "ax.coastlines()\n",
    "\n",
    "# Save the plot by calling plt.savefig() BEFORE plt.show()\n",
    "plt.savefig('coastlines.pdf')\n",
    "plt.savefig('coastlines.png')\n",
    "\n",
    "plt.show()"
   ]
  },
  {
   "cell_type": "markdown",
   "metadata": {},
   "source": [
    "## Projections\n",
    "The projection argument is used when creating plots and determines the projection of the resulting plot (i.e. what the plot looks like).\n",
    "\n",
    "Lets create another map in a different projection, and make use of the `stock_img()` method to add an underlay image to the map:"
   ]
  },
  {
   "cell_type": "code",
   "execution_count": null,
   "metadata": {},
   "outputs": [],
   "source": [
    "import cartopy.crs as ccrs\n",
    "import matplotlib.pyplot as plt\n",
    "\n",
    "ax = plt.axes(projection=ccrs.Mollweide())\n",
    "ax.stock_img()\n",
    "plt.show()"
   ]
  },
  {
   "cell_type": "markdown",
   "metadata": {},
   "source": [
    "Listing the projections we could use:\n",
    "* PlateCarree\n",
    "* AlbersEqualArea\n",
    "* AzimuthalEquidistant\n",
    "* EquidistantConic\n",
    "* LambertConformal\n",
    "* LambertCylindrical\n",
    "* Mercator\n",
    "* Miller\n",
    "* Mollweide\n",
    "* Orthographic\n",
    "* Robinson\n",
    "* Sinusoidal\n",
    "* Stereographic\n",
    "* TransverseMercator\n",
    "* UTM\n",
    "* InterruptedGoodeHomolosine\n",
    "* RotatedPole\n",
    "* OSGB\n",
    "* EuroPP\n",
    "* Geostationary\n",
    "* NearsidePerspective\n",
    "* EckertI\n",
    "* EckertII\n",
    "* EckertIII\n",
    "* EckertIV\n",
    "* EckertV\n",
    "* EckertVI\n",
    "* EqualEarth\n",
    "* Gnomonic\n",
    "* LambertAzimuthalEqualArea\n",
    "* NorthPolarStereo\n",
    "* OSNI\n",
    "* SouthPolarStereo"
   ]
  },
  {
   "cell_type": "markdown",
   "metadata": {},
   "source": [
    "## Transform\n",
    "The transform argument to plotting functions tells Cartopy what coordinate system your data are defined in.\n",
    "\n",
    "Let's make an example of how this can be used with some made-up data. First, we make a PlateCarree projection without specifying the transform argument. This happens to work, correctly displaying the data due to the supplied coordinate system matching the projection. "
   ]
  },
  {
   "cell_type": "code",
   "execution_count": null,
   "metadata": {},
   "outputs": [],
   "source": [
    "import numpy as np\n",
    "\n",
    "\n",
    "lon = np.linspace(-80, 80, 25)\n",
    "lat = np.linspace(30, 70, 25)\n",
    "lon2d, lat2d = np.meshgrid(lon, lat)\n",
    "\n",
    "data = np.cos(np.deg2rad(lat2d) * 4) + np.sin(np.deg2rad(lon2d) * 4)\n",
    "\n",
    "\n",
    "import cartopy.crs as ccrs\n",
    "import matplotlib.pyplot as plt\n",
    "\n",
    "\n",
    "# The projection keyword determines how the plot will look\n",
    "\n",
    "plt.figure(figsize=(6, 3))\n",
    "ax = plt.axes(projection=ccrs.PlateCarree())\n",
    "ax.set_global()\n",
    "ax.coastlines()\n",
    "\n",
    "ax.contourf(lon, lat, data)  # didn't use transform, but looks ok\n",
    "plt.show()"
   ]
  },
  {
   "cell_type": "markdown",
   "metadata": {},
   "source": [
    "Correctly using the transform keyword:"
   ]
  },
  {
   "cell_type": "code",
   "execution_count": null,
   "metadata": {},
   "outputs": [],
   "source": [
    "data_crs = ccrs.PlateCarree()\n",
    "\n",
    "# The projection keyword determines how the plot will look\n",
    "plt.figure(figsize=(6, 3))\n",
    "ax = plt.axes(projection=ccrs.PlateCarree())\n",
    "ax.set_global()\n",
    "ax.coastlines()\n",
    "\n",
    "ax.contourf(lon, lat, data, transform=data_crs)\n",
    "plt.show()"
   ]
  },
  {
   "cell_type": "markdown",
   "metadata": {},
   "source": [
    "When this doesn't work out, we may see something like the example below:"
   ]
  },
  {
   "cell_type": "code",
   "execution_count": null,
   "metadata": {},
   "outputs": [],
   "source": [
    "# Now we plot a rotated pole projection\n",
    "projection = ccrs.RotatedPole(pole_longitude=-177.5, pole_latitude=37.5)\n",
    "plt.figure(figsize=(6, 3))\n",
    "ax = plt.axes(projection=projection)\n",
    "ax.set_global()\n",
    "ax.coastlines()\n",
    "\n",
    "ax.contourf(lon, lat, data)  # didn't use transform, uh oh\n",
    "plt.show()"
   ]
  },
  {
   "cell_type": "markdown",
   "metadata": {},
   "source": [
    "To fix this, we supply the transform argument. "
   ]
  },
  {
   "cell_type": "code",
   "execution_count": null,
   "metadata": {},
   "outputs": [],
   "source": [
    "# A rotated pole projection again...\n",
    "projection = ccrs.RotatedPole(pole_longitude=-177.5, pole_latitude=37.5)\n",
    "plt.figure(figsize=(6, 3))\n",
    "ax = plt.axes(projection=projection)\n",
    "ax.set_global()\n",
    "ax.coastlines()\n",
    "\n",
    "# ...but now using the transform argument\n",
    "ax.contourf(lon, lat, data, transform=data_crs)\n",
    "plt.show()"
   ]
  },
  {
   "cell_type": "markdown",
   "metadata": {},
   "source": [
    "Here's another example which compares Geodetic and Plate Carree lines between two locations."
   ]
  },
  {
   "cell_type": "code",
   "execution_count": null,
   "metadata": {},
   "outputs": [],
   "source": [
    "import matplotlib.pyplot as plt\n",
    "import cartopy.crs as ccrs\n",
    "\n",
    "\n",
    "def main():\n",
    "    fig = plt.figure(figsize=(10, 5))\n",
    "    ax = fig.add_subplot(1, 1, 1, projection=ccrs.Robinson())\n",
    "\n",
    "    # make the map global rather than have it zoom in to\n",
    "    # the extents of any plotted data\n",
    "    ax.set_global()\n",
    "\n",
    "    ax.stock_img()\n",
    "    ax.coastlines()\n",
    "\n",
    "    ax.plot(-0.08, 51.53, 'o', transform=ccrs.PlateCarree())\n",
    "    ax.plot([-0.08, 132], [51.53, 43.17], transform=ccrs.PlateCarree())\n",
    "    ax.plot([-0.08, 132], [51.53, 43.17], transform=ccrs.Geodetic())\n",
    "\n",
    "    plt.show()\n",
    "\n",
    "\n",
    "if __name__ == '__main__':\n",
    "    main()"
   ]
  },
  {
   "cell_type": "markdown",
   "metadata": {},
   "source": [
    "## Cartopy Features\n",
    "\n",
    "Feature subclasses have been defined for common functionality, such as accessing Natural Earth or GSHHS shapefiles. \n",
    "\n",
    "To simplify some very common cases, some pre-defined Features exist as `cartopy.feature` constants. The pre-defined Features are all small-scale (1:110m) Natural Earth datasets, and can be added with methods such as `GeoAxes.add_feature`:\n",
    "\n",
    "BORDERS - Country boundaries.\n",
    "\n",
    "COASTLINE - Coastline, including major islands.\n",
    "\n",
    "LAKES - Natural and artificial lakes.\n",
    "\n",
    "LAND - Land polygons, including major islands.\n",
    "\n",
    "OCEAN - Ocean polygons.\n",
    "\n",
    "RIVERS - Single-line drainages, including lake centerlines.\n",
    "\n",
    "STATES - Internal, first-order administrative boundaries (limited to the United States at this scale). Natural Earth have first-order admin boundaries for most countries at the 1:10,000,000 scale; these may be accessed with cartopy.feature.STATES.with_scale('10m')\n",
    "\n",
    "\n",
    "Any Natural Earth dataset can be used by creating an instance of `cartopy.feature.NaturalEarthFeature`. For example:"
   ]
  },
  {
   "cell_type": "code",
   "execution_count": null,
   "metadata": {},
   "outputs": [],
   "source": [
    "import cartopy.feature as cfeature\n",
    "land_50m = cfeature.NaturalEarthFeature('physical', 'land', '50m',\n",
    "                                        edgecolor='face',\n",
    "                                        facecolor=cfeature.COLORS['land'])"
   ]
  },
  {
   "cell_type": "markdown",
   "metadata": {},
   "source": [
    "A dictionary of some useful colors for drawing features also exists in `cartopy.feature.COLORS`.\n",
    "\n",
    "For a full list of names in this dictionary:"
   ]
  },
  {
   "cell_type": "code",
   "execution_count": null,
   "metadata": {},
   "outputs": [],
   "source": [
    "import cartopy.feature\n",
    "print(sorted(cartopy.feature.COLORS.keys()))"
   ]
  },
  {
   "cell_type": "markdown",
   "metadata": {},
   "source": [
    "`add_feature(feature, **kwargs)`\n",
    "Add the given Feature instance to the axes.\n",
    "\n",
    "Parameters : `feature` – An instance of Feature.\n",
    "\n",
    "Returns: A `cartopy.mpl.feature_artist.FeatureArtist` instance – The instance responsible for drawing the feature."
   ]
  },
  {
   "cell_type": "code",
   "execution_count": null,
   "metadata": {},
   "outputs": [],
   "source": [
    "import cartopy\n",
    "import matplotlib.pyplot as plt\n",
    "\n",
    "fig = plt.figure()\n",
    "ax = fig.add_subplot(1, 1, 1, projection=ccrs.PlateCarree())\n",
    "ax.set_extent([-20, 60, -40, 45], crs=ccrs.PlateCarree())\n",
    "\n",
    "ax.add_feature(cartopy.feature.LAND)\n",
    "ax.add_feature(cartopy.feature.OCEAN)\n",
    "ax.add_feature(cartopy.feature.COASTLINE)\n",
    "ax.add_feature(cartopy.feature.BORDERS, linestyle=':')\n",
    "ax.add_feature(cartopy.feature.LAKES, alpha=0.5)\n",
    "ax.add_feature(cartopy.feature.RIVERS)\n",
    "\n",
    "ax.set_extent([-20, 60, -40, 40])\n",
    "\n",
    "plt.show()"
   ]
  },
  {
   "cell_type": "markdown",
   "metadata": {},
   "source": [
    "Another example of feature creation on a map is shown below. "
   ]
  },
  {
   "cell_type": "code",
   "execution_count": null,
   "metadata": {},
   "outputs": [],
   "source": [
    "import matplotlib.pyplot as plt\n",
    "import cartopy.crs as ccrs\n",
    "import cartopy.feature as cfeature\n",
    "from matplotlib.offsetbox import AnchoredText\n",
    "\n",
    "\n",
    "fig = plt.figure()\n",
    "ax = fig.add_subplot(1, 1, 1, projection=ccrs.PlateCarree())\n",
    "ax.set_extent([80, 170, -45, 30], crs=ccrs.PlateCarree())\n",
    "\n",
    "# Put a background image on for nice sea rendering.\n",
    "ax.stock_img()\n",
    "\n",
    "# Create a feature for States/Admin 1 regions at 1:50m from Natural Earth\n",
    "states_provinces = cfeature.NaturalEarthFeature(\n",
    "    category='cultural',\n",
    "    name='admin_1_states_provinces_lines',\n",
    "    scale='50m',\n",
    "    facecolor='none')\n",
    "\n",
    "SOURCE = 'Natural Earth'\n",
    "LICENSE = 'public domain'\n",
    "\n",
    "ax.add_feature(cfeature.LAND)\n",
    "ax.add_feature(cfeature.COASTLINE)\n",
    "ax.add_feature(states_provinces, edgecolor='gray')\n",
    "\n",
    "# Add a text annotation for the license information to the\n",
    "# the bottom right corner.\n",
    "text = AnchoredText('\\u00A9 {}; license: {}'\n",
    "                    ''.format(SOURCE, LICENSE),\n",
    "                    loc=4, prop={'size': 12}, frameon=True)\n",
    "ax.add_artist(text)\n",
    "\n",
    "plt.show()"
   ]
  },
  {
   "cell_type": "markdown",
   "metadata": {},
   "source": [
    "## Adding Text\n",
    "\n",
    "A benefit of the example above is that it also demonstrates a way to add text to the map using `AnchoredText`. \n",
    "\n",
    "#### *class* `matplotlib.offsetbox.AnchoredText(s, loc, pad=0.4, borderpad=0.5, prop=None, **kwargs)`\n",
    "\n",
    "Bases: matplotlib.offsetbox.AnchoredOffsetbox\n",
    "\n",
    "AnchoredOffsetbox with Text.\n",
    "\n",
    "Parameters:\n",
    "- sstr - Text.\n",
    "- locstr - Location code. See AnchoredOffsetbox.\n",
    "- pad - float, default: 0.4 - Padding around the text as fraction of the fontsize.\n",
    "- borderpad - float, default: 0.5 - Spacing between the offsetbox frame and the bbox_to_anchor.\n",
    "- prop - dict, optional - Dictionary of keyword parameters to be passed to the Text instance contained inside AnchoredText.\n",
    "- \\*\\*kwargs - All other parameters are passed to AnchoredOffsetbox. \n",
    "\n",
    "Another way of adding text in a map is using cartopy's favicon. "
   ]
  },
  {
   "cell_type": "code",
   "execution_count": null,
   "metadata": {},
   "outputs": [],
   "source": [
    "import cartopy.crs as ccrs\n",
    "import matplotlib.pyplot as plt\n",
    "import matplotlib.textpath\n",
    "import matplotlib.patches\n",
    "from matplotlib.font_manager import FontProperties\n",
    "\n",
    "\n",
    "fig = plt.figure(figsize=[8, 8])\n",
    "ax = fig.add_subplot(1, 1, 1, projection=ccrs.SouthPolarStereo())\n",
    "\n",
    "ax.coastlines()\n",
    "ax.gridlines()\n",
    "ax.stock_img()\n",
    "\n",
    "# Generate a matplotlib path representing the character \"C\".\n",
    "fp = FontProperties(family='DejaVu Sans', weight='bold')\n",
    "logo_path = matplotlib.textpath.TextPath((-4.5e7, -3.7e7),\n",
    "                                         'C', size=103250000, prop=fp)\n",
    "\n",
    "# Add the path as a patch, drawing black outlines around the text.\n",
    "patch = matplotlib.patches.PathPatch(logo_path, facecolor='white',\n",
    "                                     edgecolor='black', linewidth=10,\n",
    "                                     transform=ccrs.SouthPolarStereo())\n",
    "ax.add_patch(patch)\n",
    "plt.show()"
   ]
  },
  {
   "cell_type": "markdown",
   "metadata": {},
   "source": [
    "## Gridlines and Tick Labels\n",
    "The Gridliner instance, often created by calling the `cartopy.mpl.geoaxes.GeoAxes.gridlines()` method on a `cartopy.mpl.geoaxes.GeoAxes` instance, has a variety of attributes which can be used to determine draw time behaviour of the gridlines and labels.\n",
    "\n",
    "In this first example, gridlines and tick labels are plotted in a non-rectangular projection, with mostly default values:"
   ]
  },
  {
   "cell_type": "code",
   "execution_count": null,
   "metadata": {},
   "outputs": [],
   "source": [
    "import matplotlib.pyplot as plt\n",
    "import cartopy.crs as ccrs\n",
    "\n",
    "rotated_crs = ccrs.RotatedPole(pole_longitude=120.0, pole_latitude=70.0)\n",
    "\n",
    "ax = plt.axes(projection=rotated_crs)\n",
    "ax.set_extent([-6, 3, 48, 58], crs=ccrs.PlateCarree())\n",
    "ax.coastlines(resolution='50m')\n",
    "ax.gridlines(draw_labels=True, dms=True, x_inline=False, y_inline=False)\n",
    "\n",
    "plt.show()"
   ]
  },
  {
   "cell_type": "markdown",
   "metadata": {},
   "source": [
    "A more complicated example below makes use of many of the features of the Gridliner class to produce customized gridlines and tick labels:"
   ]
  },
  {
   "cell_type": "code",
   "execution_count": null,
   "metadata": {},
   "outputs": [],
   "source": [
    "import matplotlib.pyplot as plt\n",
    "import matplotlib.ticker as mticker\n",
    "import cartopy.crs as ccrs\n",
    "\n",
    "from cartopy.mpl.ticker import (LongitudeFormatter, LatitudeFormatter,\n",
    "                                LatitudeLocator)\n",
    "\n",
    "\n",
    "ax = plt.axes(projection=ccrs.Mercator())\n",
    "ax.coastlines()\n",
    "\n",
    "gl = ax.gridlines(crs=ccrs.PlateCarree(), draw_labels=True,\n",
    "                  linewidth=2, color='gray', alpha=0.5, linestyle='--')\n",
    "gl.top_labels = False\n",
    "gl.left_labels = False\n",
    "gl.xlines = False\n",
    "gl.xlocator = mticker.FixedLocator([-180, -45, 0, 45, 180])\n",
    "gl.ylocator = LatitudeLocator()\n",
    "gl.xformatter = LongitudeFormatter()\n",
    "gl.yformatter = LatitudeFormatter()\n",
    "gl.xlabel_style = {'size': 15, 'color': 'gray'}\n",
    "gl.xlabel_style = {'color': 'red', 'weight': 'bold'}\n",
    "\n",
    "plt.show()"
   ]
  },
  {
   "cell_type": "markdown",
   "metadata": {},
   "source": [
    "The following examples demonstrate how to add longitude and latitude gridlines and tick labels on a non-rectangular projection.\n",
    "\n",
    "In the first example, longitude labels may be drawn on left and right sides, and latitude labels may be drawn on bottom and top sides. Thanks to the dms keyword, minutes are used when appropriate to display fractions of degree.\n",
    "\n",
    "In the second example, labels are still drawn at the map edges despite its complexity, and some others are also drawn within the map boundary.\n",
    "\n",
    "In the third example, labels are drawn only on the left and bottom sides."
   ]
  },
  {
   "cell_type": "code",
   "execution_count": null,
   "metadata": {},
   "outputs": [],
   "source": [
    "import cartopy.crs as ccrs\n",
    "import cartopy.feature as cfeature\n",
    "import matplotlib.pyplot as plt\n",
    "\n",
    "\n",
    "rotated_crs = ccrs.RotatedPole(pole_longitude=120.0, pole_latitude=70.0)\n",
    "ax0 = plt.axes(projection=rotated_crs)\n",
    "ax0.set_extent([-6, 1, 47.5, 51.5], crs=ccrs.PlateCarree())\n",
    "ax0.add_feature(cfeature.LAND.with_scale('110m'))\n",
    "ax0.gridlines(draw_labels=True, dms=True, x_inline=False, y_inline=False)\n",
    "\n",
    "plt.figure(figsize=(6.9228, 3))\n",
    "ax1 = plt.axes(projection=ccrs.InterruptedGoodeHomolosine())\n",
    "ax1.coastlines(resolution='110m')\n",
    "ax1.gridlines(draw_labels=True)\n",
    "\n",
    "plt.figure(figsize=(7, 3))\n",
    "ax2 = plt.axes(projection=ccrs.PlateCarree())\n",
    "ax2.coastlines(resolution='110m')\n",
    "gl = ax2.gridlines(draw_labels=True)\n",
    "gl.top_labels = False\n",
    "gl.right_labels = False\n",
    "plt.show()"
   ]
  },
  {
   "cell_type": "markdown",
   "metadata": {},
   "source": [
    "This example demonstrates adding tick labels to maps on rectangular projections using special tick formatters."
   ]
  },
  {
   "cell_type": "code",
   "execution_count": null,
   "metadata": {},
   "outputs": [],
   "source": [
    "import cartopy.crs as ccrs\n",
    "from cartopy.mpl.ticker import LongitudeFormatter, LatitudeFormatter\n",
    "import matplotlib.pyplot as plt\n",
    "\n",
    "\n",
    "fig = plt.figure(figsize=(8, 10))\n",
    "\n",
    "# Label axes of a Plate Carree projection with a central longitude of 180:\n",
    "ax1 = fig.add_subplot(2, 1, 1,\n",
    "                      projection=ccrs.PlateCarree(central_longitude=180))\n",
    "ax1.set_global()\n",
    "ax1.coastlines()\n",
    "ax1.set_xticks([0, 60, 120, 180, 240, 300, 360], crs=ccrs.PlateCarree())\n",
    "ax1.set_yticks([-90, -60, -30, 0, 30, 60, 90], crs=ccrs.PlateCarree())\n",
    "lon_formatter = LongitudeFormatter(zero_direction_label=True)\n",
    "lat_formatter = LatitudeFormatter()\n",
    "ax1.xaxis.set_major_formatter(lon_formatter)\n",
    "ax1.yaxis.set_major_formatter(lat_formatter)\n",
    "\n",
    "# Label axes of a Mercator projection without degree symbols in the labels\n",
    "# and formatting labels to include 1 decimal place:\n",
    "ax2 = fig.add_subplot(2, 1, 2, projection=ccrs.Mercator())\n",
    "ax2.set_global()\n",
    "ax2.coastlines()\n",
    "ax2.set_xticks([-180, -120, -60, 0, 60, 120, 180], crs=ccrs.PlateCarree())\n",
    "ax2.set_yticks([-78.5, -60, -25.5, 25.5, 60, 80], crs=ccrs.PlateCarree())\n",
    "lon_formatter = LongitudeFormatter(number_format='.1f',\n",
    "                                   degree_symbol='',\n",
    "                                   dateline_direction_label=True)\n",
    "lat_formatter = LatitudeFormatter(number_format='.1f',\n",
    "                                  degree_symbol='')\n",
    "ax2.xaxis.set_major_formatter(lon_formatter)\n",
    "ax2.yaxis.set_major_formatter(lat_formatter)\n",
    "\n",
    "plt.show()"
   ]
  },
  {
   "cell_type": "markdown",
   "metadata": {},
   "source": [
    "## Custom Boundary Shape\n",
    "This example demonstrates how a custom shape geometry may be used instead of the projection’s default boundary.\n",
    "\n",
    "In this instance, we define the boundary as a circle in axes coordinates. This means that no matter the extent of the map itself, the boundary will always be a circle."
   ]
  },
  {
   "cell_type": "code",
   "execution_count": null,
   "metadata": {},
   "outputs": [],
   "source": [
    "import matplotlib.path as mpath\n",
    "import matplotlib.pyplot as plt\n",
    "import numpy as np\n",
    "import cartopy.crs as ccrs\n",
    "import cartopy.feature as cfeature\n",
    "\n",
    "\n",
    "fig = plt.figure(figsize=[10, 5])\n",
    "ax1 = fig.add_subplot(1, 2, 1, projection=ccrs.SouthPolarStereo())\n",
    "ax2 = fig.add_subplot(1, 2, 2, projection=ccrs.SouthPolarStereo(),\n",
    "                      sharex=ax1, sharey=ax1)\n",
    "fig.subplots_adjust(bottom=0.05, top=0.95,\n",
    "                    left=0.04, right=0.95, wspace=0.02)\n",
    "\n",
    "# Limit the map to -60 degrees latitude and below.\n",
    "ax1.set_extent([-180, 180, -90, -60], ccrs.PlateCarree())\n",
    "\n",
    "ax1.add_feature(cfeature.LAND)\n",
    "ax1.add_feature(cfeature.OCEAN)\n",
    "\n",
    "ax1.gridlines()\n",
    "ax2.gridlines()\n",
    "\n",
    "ax2.add_feature(cfeature.LAND)\n",
    "ax2.add_feature(cfeature.OCEAN)\n",
    "\n",
    "# Compute a circle in axes coordinates, which we can use as a boundary for the map. \n",
    "# We can pan/zoom as much as we like - the boundary will be permanently circular.\n",
    "theta = np.linspace(0, 2*np.pi, 100)\n",
    "center, radius = [0.5, 0.5], 0.5\n",
    "verts = np.vstack([np.sin(theta), np.cos(theta)]).T\n",
    "circle = mpath.Path(verts * radius + center)\n",
    "\n",
    "ax2.set_boundary(circle, transform=ax2.transAxes)\n",
    "\n",
    "plt.show()"
   ]
  },
  {
   "cell_type": "markdown",
   "metadata": {},
   "source": [
    "## Plotting Data\n",
    "Once you have the map just the way you want it, data can be added to it in exactly the same way as with normal Matplotlib axes. By default, the coordinate system of any data added to a GeoAxes is the same as the coordinate system of the GeoAxes itself, to control which coordinate system that the given data is in, you can add the transform keyword with an appropriate `cartopy.crs.CRS` instance:"
   ]
  },
  {
   "cell_type": "code",
   "execution_count": null,
   "metadata": {},
   "outputs": [],
   "source": [
    "import cartopy.crs as ccrs\n",
    "import matplotlib.pyplot as plt\n",
    "\n",
    "ax = plt.axes(projection=ccrs.PlateCarree())\n",
    "ax.stock_img()\n",
    "\n",
    "ny_lon, ny_lat = -75, 43\n",
    "delhi_lon, delhi_lat = 77.23, 28.61\n",
    "\n",
    "plt.plot([ny_lon, delhi_lon], [ny_lat, delhi_lat],\n",
    "         color='blue', linewidth=2, marker='o',\n",
    "         transform=ccrs.Geodetic(),\n",
    "         )\n",
    "\n",
    "plt.plot([ny_lon, delhi_lon], [ny_lat, delhi_lat],\n",
    "         color='gray', linestyle='--',\n",
    "         transform=ccrs.PlateCarree(),\n",
    "         )\n",
    "\n",
    "plt.text(ny_lon - 3, ny_lat - 12, 'New York',\n",
    "         horizontalalignment='right',\n",
    "         transform=ccrs.Geodetic())\n",
    "\n",
    "plt.text(delhi_lon + 3, delhi_lat - 12, 'Delhi',\n",
    "         horizontalalignment='left',\n",
    "         transform=ccrs.Geodetic())\n",
    "\n",
    "plt.show()"
   ]
  },
  {
   "cell_type": "markdown",
   "metadata": {},
   "source": [
    "Notice how the line in blue between New York and Delhi is not straight on a flat PlateCarree map, this is because the Geodetic coordinate system is a truly spherical coordinate system, where a line between two points is defined as the shortest path between those points on the globe rather than 2d Cartesian space.\n",
    "\n",
    "By default, Matplotlib automatically sets the limits of your Axes based on the data that you plot. Because cartopy implements a GeoAxes class, this equates to the limits of the resulting map. Sometimes this autoscaling is a desirable feature and other times it is not.\n",
    "\n",
    "To set the extents of a cartopy GeoAxes, there are several convenient options:\n",
    "- For “global” plots, use the set_global() method.\n",
    "- To set the extents of the map based on a bounding box, in any coordinate system, use the set_extent() method.\n",
    "- Alternatively, the standard limit setting methods can be used in the GeoAxes’s native coordinate system (e.g. set_xlim() and set_ylim())."
   ]
  },
  {
   "cell_type": "markdown",
   "metadata": {},
   "source": [
    "## Contour Plots\n",
    "Creates a contour plot."
   ]
  },
  {
   "cell_type": "code",
   "execution_count": null,
   "metadata": {},
   "outputs": [],
   "source": [
    "import os\n",
    "import matplotlib.pyplot as plt\n",
    "from scipy.io import netcdf\n",
    "from cartopy import config\n",
    "import cartopy.crs as ccrs\n",
    "\n",
    "\n",
    "# get the path of the file. It can be found in the repo data directory.\n",
    "fname = os.path.join(config[\"repo_data_dir\"],\n",
    "                     'netcdf', 'HadISST1_SST_update.nc'\n",
    "                     )\n",
    "\n",
    "dataset = netcdf.netcdf_file(fname, maskandscale=True, mmap=False)\n",
    "sst = dataset.variables['sst'][0, :, :]\n",
    "lats = dataset.variables['lat'][:]\n",
    "lons = dataset.variables['lon'][:]\n",
    "\n",
    "ax = plt.axes(projection=ccrs.PlateCarree())\n",
    "\n",
    "plt.contourf(lons, lats, sst, 60,\n",
    "             transform=ccrs.PlateCarree())\n",
    "\n",
    "ax.coastlines()\n",
    "\n",
    "plt.show()"
   ]
  },
  {
   "cell_type": "markdown",
   "metadata": {},
   "source": [
    "An example of adding contour labels to matplotlib contours."
   ]
  },
  {
   "cell_type": "code",
   "execution_count": null,
   "metadata": {},
   "outputs": [],
   "source": [
    "import cartopy.crs as ccrs\n",
    "import matplotlib.pyplot as plt\n",
    "from waves import sample_data\n",
    "\n",
    "\n",
    "fig = plt.figure()\n",
    "\n",
    "# Setup a global EckertIII map with faint coastlines.\n",
    "ax = fig.add_subplot(1, 1, 1, projection=ccrs.EckertIII())\n",
    "ax.set_global()\n",
    "ax.coastlines('110m', alpha=0.1)\n",
    "\n",
    "# Use the waves example to provide some sample data, but make it\n",
    "# more dependent on y for more interesting contours.\n",
    "x, y, z = sample_data((20, 40))\n",
    "z = z * -1.5 * y\n",
    "\n",
    "# Add colourful filled contours.\n",
    "filled_c = ax.contourf(x, y, z, transform=ccrs.PlateCarree())\n",
    "\n",
    "# And black line contours.\n",
    "line_c = ax.contour(x, y, z, levels=filled_c.levels,\n",
    "                    colors=['black'],\n",
    "                    transform=ccrs.PlateCarree())\n",
    "\n",
    "# Uncomment to make the line contours invisible.\n",
    "# plt.setp(line_c.collections, visible=False)\n",
    "\n",
    "# Add a colorbar for the filled contour.\n",
    "fig.colorbar(filled_c, orientation='horizontal')\n",
    "\n",
    "# Use the line contours to place contour labels.\n",
    "ax.clabel(\n",
    "    line_c,  # Typically best results when labelling line contours.\n",
    "    colors=['black'],\n",
    "    manual=False,  # Automatic placement vs manual placement.\n",
    "    inline=True,  # Cut the line where the label will be placed.\n",
    "    fmt=' {:.0f} '.format,  # Labes as integers, with some extra space.\n",
    ")\n",
    "\n",
    "plt.show()"
   ]
  },
  {
   "cell_type": "markdown",
   "metadata": {},
   "source": [
    "## Images"
   ]
  },
  {
   "cell_type": "code",
   "execution_count": null,
   "metadata": {},
   "outputs": [],
   "source": [
    "import os\n",
    "import matplotlib.pyplot as plt\n",
    "\n",
    "from cartopy import config\n",
    "import cartopy.crs as ccrs\n",
    "\n",
    "\n",
    "fig = plt.figure(figsize=(8, 12))\n",
    "\n",
    "# get the path of the file. It can be found in the repo data directory.\n",
    "fname = os.path.join(config[\"repo_data_dir\"],\n",
    "                     'raster', 'sample', 'Miriam.A2012270.2050.2km.jpg'\n",
    "                     )\n",
    "img_extent = (-120.67660000000001, -106.32104523100001, 13.2301484511245, 30.766899999999502)\n",
    "img = plt.imread(fname)\n",
    "\n",
    "ax = plt.axes(projection=ccrs.PlateCarree())\n",
    "plt.title('Hurricane Miriam from the Aqua/MODIS satellite\\n'\n",
    "          '2012 09/26/2012 20:50 UTC')\n",
    "\n",
    "ax.use_sticky_edges = False\n",
    "# set a margin around the data\n",
    "ax.set_xmargin(0.05)\n",
    "ax.set_ymargin(0.10)\n",
    "\n",
    "# add the image. Because this image was a tif, the \"origin\" of the image is in the\n",
    "# upper left corner\n",
    "ax.imshow(img, origin='upper', extent=img_extent, transform=ccrs.PlateCarree())\n",
    "ax.coastlines(resolution='50m', color='black', linewidth=1)\n",
    "\n",
    "# mark a known place to help us geo-locate ourselves\n",
    "ax.plot(-117.1625, 32.715, 'bo', markersize=7, transform=ccrs.Geodetic())\n",
    "ax.text(-117, 33, 'San Diego', transform=ccrs.Geodetic())\n",
    "\n",
    "plt.show()"
   ]
  },
  {
   "cell_type": "markdown",
   "metadata": {},
   "source": [
    "## Review Question\n",
    "\n",
    "Create a plot with the following specifications:\n",
    "- Shows most of or the entire world\n",
    "- Has the following features: land, ocean, coastlines, and  country borders. \n",
    "- The land and ocean should be coloured appropriately.\n",
    "- Plot the word \"Ottawa\" at 45.4, -75.7.\n",
    "- Add a title (be creative).\n",
    "\n",
    "Use your preferred map projection and be careful with the transform!"
   ]
  }
 ],
 "metadata": {
  "kernelspec": {
   "display_name": "Python 3 (ipykernel)",
   "language": "python",
   "name": "python3"
  },
  "language_info": {
   "codemirror_mode": {
    "name": "ipython",
    "version": 3
   },
   "file_extension": ".py",
   "mimetype": "text/x-python",
   "name": "python",
   "nbconvert_exporter": "python",
   "pygments_lexer": "ipython3",
   "version": "3.10.1"
  }
 },
 "nbformat": 4,
 "nbformat_minor": 4
}
