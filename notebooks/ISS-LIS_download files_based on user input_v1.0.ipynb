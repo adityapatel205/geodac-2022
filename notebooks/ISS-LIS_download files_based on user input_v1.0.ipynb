{
 "cells": [
  {
   "cell_type": "markdown",
   "id": "de4b4763",
   "metadata": {},
   "source": [
    "# Downloading ISS-LIS files for particular user input time intervals using an API calls"
   ]
  },
  {
   "cell_type": "markdown",
   "id": "565a6cb9",
   "metadata": {},
   "source": [
    "**Earthdata API is used to access and query NASA data, for details: https://pypi.org/project/earthdata/**"
   ]
  },
  {
   "cell_type": "code",
   "execution_count": 1,
   "id": "ed050b45",
   "metadata": {},
   "outputs": [],
   "source": [
    "import earthdata\n",
    "from earthdata import Auth, Store, DataCollections, DataGranules"
   ]
  },
  {
   "cell_type": "markdown",
   "id": "beaf6f0e",
   "metadata": {},
   "source": [
    "**Note here we don't need NASA authentication as we are accessing the files directly from GHRC server*"
   ]
  },
  {
   "cell_type": "markdown",
   "id": "74238214",
   "metadata": {},
   "source": [
    "**We can now search for collections using a pythonic API client for CMR**"
   ]
  },
  {
   "cell_type": "code",
   "execution_count": 2,
   "id": "5040377f",
   "metadata": {},
   "outputs": [],
   "source": [
    "###Locate DAAC (in oue case it is GHRC-DAAC to access LIS files)###\n",
    "#Query = DataCollections().daac(\"GHRCDAAC\")\n",
    "\n",
    "###Find collections in the mentioned DAAC###\n",
    "#print(f'Collections found: {Query.hits()}')\n",
    "#collections = Query.fields(['ShortName']).get(10)\n",
    "\n",
    "###Printing collection 6 of our interest which has ISS science data###\n",
    "#collections[6]"
   ]
  },
  {
   "cell_type": "markdown",
   "id": "6449bc34",
   "metadata": {},
   "source": [
    "### Input start time of interest"
   ]
  },
  {
   "cell_type": "code",
   "execution_count": 3,
   "id": "48570c14",
   "metadata": {},
   "outputs": [
    {
     "name": "stdout",
     "output_type": "stream",
     "text": [
      "Enter start time in format: YYYY-MM-DD \n",
      "2021-05-02\n"
     ]
    }
   ],
   "source": [
    "start_time = input('Enter start time in format: YYYY-MM-DD \\n')"
   ]
  },
  {
   "cell_type": "markdown",
   "id": "9238dca5",
   "metadata": {},
   "source": [
    "### Input end time of interest"
   ]
  },
  {
   "cell_type": "code",
   "execution_count": 4,
   "id": "8f131c2a",
   "metadata": {},
   "outputs": [
    {
     "name": "stdout",
     "output_type": "stream",
     "text": [
      "Enter end time in format: YYYY-MM-DD \n",
      "2021-05-03\n"
     ]
    }
   ],
   "source": [
    "end_time = input('Enter end time in format: YYYY-MM-DD \\n')"
   ]
  },
  {
   "cell_type": "markdown",
   "id": "044eb76d",
   "metadata": {},
   "source": [
    "**To find LIS granules for given dates and access their metadata using get() method**"
   ]
  },
  {
   "cell_type": "code",
   "execution_count": 12,
   "id": "dbea3055",
   "metadata": {},
   "outputs": [
    {
     "data": {
      "text/plain": [
       "[Collection: {'ShortName': 'isslis_v2_nqc', 'Version': '2'}\n",
       " Spatial coverage: {'HorizontalSpatialDomain': {'Geometry': {'BoundingRectangles': [{'WestBoundingCoordinate': -75.131, 'EastBoundingCoordinate': -101.506, 'NorthBoundingCoordinate': 51.84, 'SouthBoundingCoordinate': -51.706}]}}}\n",
       " Temporal coverage: {'RangeDateTime': {'BeginningDateTime': '2021-05-01T22:33:54Z', 'EndingDateTime': '2021-05-02T00:06:47Z'}}\n",
       " Size(MB): 2.02\n",
       " Data: ['https://data.ghrc.earthdata.nasa.gov/ghrcw-protected/isslis_v2_nqc__2/202105/ISS_LIS_SC_V2.1_20210501_223343_NQC.hdf', 's3://ghrcw-protected/isslis_v2_nqc__2/202105/ISS_LIS_SC_V2.1_20210501_223343_NQC.hdf'],\n",
       " Collection: {'ShortName': 'isslis_v2_nqc', 'Version': '2'}\n",
       " Spatial coverage: {'HorizontalSpatialDomain': {'Geometry': {'BoundingRectangles': [{'WestBoundingCoordinate': -75.131, 'EastBoundingCoordinate': -101.506, 'NorthBoundingCoordinate': 51.84, 'SouthBoundingCoordinate': -51.706}]}}}\n",
       " Temporal coverage: {'RangeDateTime': {'BeginningDateTime': '2021-05-01T22:33:54Z', 'EndingDateTime': '2021-05-02T00:06:47Z'}}\n",
       " Size(MB): 2.83\n",
       " Data: ['https://data.ghrc.earthdata.nasa.gov/ghrcw-protected/isslis_v2_nqc__2/202105/ISS_LIS_SC_V2.1_20210501_223343_NQC.nc', 's3://ghrcw-protected/isslis_v2_nqc__2/202105/ISS_LIS_SC_V2.1_20210501_223343_NQC.nc']]"
      ]
     },
     "execution_count": 12,
     "metadata": {},
     "output_type": "execute_result"
    }
   ],
   "source": [
    "### We build our query, note as ISS_LIS data comes 1file per orbit so we can temporally query the data### \n",
    "###spatial query not possible###\n",
    "###The short name for collection was found from cell[2]###\n",
    "\n",
    "from pprint import pprint\n",
    "Query = DataGranules().short_name('isslis_v2_nqc').temporal(start_time,end_time)\n",
    "\n",
    "###We get all metadata records###\n",
    "granules = Query.get(2)\n",
    "\n",
    "granules"
   ]
  },
  {
   "cell_type": "code",
   "execution_count": 7,
   "id": "b7f595cb",
   "metadata": {},
   "outputs": [],
   "source": [
    "###explore granules metadata###\n",
    "#[display(granule) for granule in granules]"
   ]
  },
  {
   "cell_type": "markdown",
   "id": "f26f77d3",
   "metadata": {},
   "source": [
    "**Now lets try to extract data URLS from the metadata of each datasets of our interest**"
   ]
  },
  {
   "cell_type": "code",
   "execution_count": 9,
   "id": "70657b0f",
   "metadata": {},
   "outputs": [],
   "source": [
    "data_links = [granule.data_links() for granule in granules]\n",
    "\n",
    "#print(data_links)\n",
    "#type(data_links)"
   ]
  },
  {
   "cell_type": "markdown",
   "id": "0e637fd8",
   "metadata": {},
   "source": [
    "**OOPS!! we are not able to access the GHRC DAAC server to directly download the files using get() method from earthdata library so lets take a long cut (atleast for time being)**"
   ]
  },
  {
   "cell_type": "markdown",
   "id": "1c6a855c",
   "metadata": {},
   "source": [
    "**'https' url for GHRC-DAAC server and 's3'for AWS are sorted...**"
   ]
  },
  {
   "cell_type": "code",
   "execution_count": 10,
   "id": "7ba3924f",
   "metadata": {},
   "outputs": [],
   "source": [
    "##covert list to dataframe .. a long cut again :)\n",
    "import pandas as pd\n",
    "df = pd.DataFrame(data_links, columns = ['https' , 'sf3'])\n",
    "\n",
    "##converted dataframe back to list sorting hhtps urls\n",
    "inprem = df['https'].values.tolist()\n",
    "#print(inprem)\n",
    " \n",
    "##Sort nc or h5 from list : work in progress\n",
    "#sort_order = ['nc']\n",
    "#inprem.sort(key = lambda i: sort_order) # works in python 3\n",
    " \n",
    "##printing result\n",
    "#print (\"The sorted list is : \" + str(inprem))"
   ]
  },
  {
   "cell_type": "markdown",
   "id": "a9d982bd",
   "metadata": {},
   "source": [
    "***Finally now, https urls for GHRC-DAAC server are opened using loop and temporarily sorted files are downloaded ;)***"
   ]
  },
  {
   "cell_type": "code",
   "execution_count": null,
   "id": "5d31156e",
   "metadata": {},
   "outputs": [],
   "source": [
    "##Works https url opens and data is downloaded to downloads as default location\n",
    "\n",
    "import webbrowser\n",
    "#url_list = ['https://data.ghrc.earthdata.nasa.gov/ghrcw-protected/isslis_v2_nqc__2/202002/ISS_LIS_SC_V2.1_20200201_225844_NQC.hdf', 'https://data.ghrc.earthdata.nasa.gov/ghrcw-protected/isslis_v2_nqc__2/202002/ISS_LIS_SC_V2.1_20200201_225844_NQC.nc']\n",
    "\n",
    "for url in inprem:\n",
    "    response = webbrowser.open(url)"
   ]
  },
  {
   "cell_type": "markdown",
   "id": "57f31245",
   "metadata": {},
   "source": [
    "***THE CODE ENDs***"
   ]
  },
  {
   "cell_type": "markdown",
   "id": "47f79768",
   "metadata": {},
   "source": [
    "."
   ]
  },
  {
   "cell_type": "markdown",
   "id": "903c176a",
   "metadata": {},
   "source": [
    "**Issues yet to be addressed:**\n",
    "1) Not able to access the files from locall DAAC server directly using get() method\n",
    "(By default the AWS links gets accessed and no file is downloaded)\n",
    "\n",
    "2) Have used URL open method to download files but all files are saved in downloads: How to change the directory ?"
   ]
  },
  {
   "cell_type": "raw",
   "id": "79657961",
   "metadata": {},
   "source": [
    "#NOT WORKING: General method to download data by earthdata API but no data is downloaded from s3 links for ISS_LIS\n",
    "\n",
    "(\n",
    "a quick try; please check open the below links of a same given dataset and check if you are able to download the data using s3 link:\n",
    "https://data.ghrc.earthdata.nasa.gov/ghrcw-protected/isslis_v2_nqc__2/202105/ISS_LIS_SC_V2.1_20210501_223343_NQC.nc\n",
    "s3://ghrcw-protected/isslis_v2_nqc__2/202105/ISS_LIS_SC_V2.1_20210501_223343_NQC.nc\n",
    ")\n",
    "\n",
    "\n",
    "#data_links = [granule.data_links(access=\"direct\") for granule in granules]\n",
    "##or if the data is an on-prem dataset\n",
    "#data_links = [granule.data_links(access=\"onprem\") for granule in granules]\n",
    "\n",
    "## The Store class allows to get the granules from on-prem locations with get()\n",
    "## NOTE: Some datasets require users to accept a Licence Agreement before accessing them\n",
    "\n",
    "#store = Store(auth)\n",
    "#files = store.get(granules, local_path=\"./data/\")"
   ]
  },
  {
   "cell_type": "markdown",
   "id": "1f018b30",
   "metadata": {},
   "source": [
    "NOT WORKING: Download URL method not working\n",
    "\n",
    "#import requests\n",
    "#response = requests.get('https://data.ghrc.earthdata.nasa.gov/ghrcw-protected/isslis_v2_nqc__2/202002/ISS_LIS_SC_V2.1_20200201_225844_NQC.hdf')"
   ]
  }
 ],
 "metadata": {
  "kernelspec": {
   "display_name": "GEODACenv",
   "language": "python",
   "name": "geodacenv"
  },
  "language_info": {
   "codemirror_mode": {
    "name": "ipython",
    "version": 3
   },
   "file_extension": ".py",
   "mimetype": "text/x-python",
   "name": "python",
   "nbconvert_exporter": "python",
   "pygments_lexer": "ipython3",
   "version": "3.10.4"
  }
 },
 "nbformat": 4,
 "nbformat_minor": 5
}
