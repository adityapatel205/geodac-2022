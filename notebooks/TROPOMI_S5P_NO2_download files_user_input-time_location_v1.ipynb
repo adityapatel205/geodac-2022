{
 "cells": [
  {
   "cell_type": "markdown",
   "id": "de4b4763",
   "metadata": {},
   "source": [
    "# Downloading TROPOMI S5P_NO2_ files for particular user input time intervals and location using an API calls"
   ]
  },
  {
   "cell_type": "markdown",
   "id": "565a6cb9",
   "metadata": {},
   "source": [
    "**Earthdata API is used to access and query NASA data, for details: https://pypi.org/project/earthdata/**"
   ]
  },
  {
   "cell_type": "code",
   "execution_count": 1,
   "id": "ed050b45",
   "metadata": {},
   "outputs": [],
   "source": [
    "import earthdata\n",
    "from earthdata import Auth, Store, DataCollections, DataGranules"
   ]
  },
  {
   "cell_type": "markdown",
   "id": "1ca43a34",
   "metadata": {},
   "source": [
    "**Authentication for accessing the files from NASA GESDISC DATA ARCHIVE *(done by accessing netric file)***"
   ]
  },
  {
   "cell_type": "code",
   "execution_count": 2,
   "id": "db340f82",
   "metadata": {},
   "outputs": [
    {
     "name": "stdout",
     "output_type": "stream",
     "text": [
      "You're now authenticated with NASA Earthdata Login\n",
      "True\n"
     ]
    }
   ],
   "source": [
    "###Now we have to create a .netrc file in home directory\n",
    "    ##cd ~ or cd $HOME\n",
    "    ##touch .netrc\n",
    "    ##echo \"machine urs.earthdata.nasa.gov login <uid> password <password>\" >> .netrc (where <uid> is your user name and <password> is your Earthdata Login password without the brackets)\n",
    "    ##chmod 0600 .netrc (so only you can access it)\n",
    "\n",
    "auth = Auth()\n",
    "auth.login(strategy=\"netrc\")\n",
    "# are we authenticated?\n",
    "print(auth.authenticated)"
   ]
  },
  {
   "cell_type": "markdown",
   "id": "5d04c941",
   "metadata": {},
   "source": [
    "Note that in most cases, applications are authorized when you first access them but if you even find some more difficulty in accesing the data please check *How To Pre-authorize an application: https://wiki.earthdata.nasa.gov/display/EL/How+To+Pre-authorize+an+application"
   ]
  },
  {
   "cell_type": "markdown",
   "id": "74238214",
   "metadata": {},
   "source": [
    "**We can also now search for collections using a pythonic API client for CMR**"
   ]
  },
  {
   "cell_type": "code",
   "execution_count": 3,
   "id": "5040377f",
   "metadata": {},
   "outputs": [],
   "source": [
    "###Locate DAAC (in oue case it is GES-DAAC to access TROPOMI S5P_L2_NO2_ files)###\n",
    "#Query = DataCollections().daac(\"GES-DAAC\")\n",
    "\n",
    "###Find collections in the mentioned DAAC###\n",
    "#print(f'Collections found: {Query.hits()}')\n",
    "#collections = Query.fields(['ShortName']).get(10)\n",
    "\n",
    "###Find the data of interest from collection of science data from GES DAAC###\n",
    "#collections[:]"
   ]
  },
  {
   "cell_type": "markdown",
   "id": "6449bc34",
   "metadata": {},
   "source": [
    "## Please enter date from 2019-08-06 onwards till date\n",
    "\n",
    "### Input start time of interest"
   ]
  },
  {
   "cell_type": "code",
   "execution_count": 4,
   "id": "48570c14",
   "metadata": {},
   "outputs": [
    {
     "name": "stdout",
     "output_type": "stream",
     "text": [
      "Enter start time in format: YYYY-MM-DD \n",
      "2020-07-27\n"
     ]
    }
   ],
   "source": [
    "start_time = input('Enter start time in format: YYYY-MM-DD \\n')"
   ]
  },
  {
   "cell_type": "markdown",
   "id": "9238dca5",
   "metadata": {},
   "source": [
    "### Input end time of interest"
   ]
  },
  {
   "cell_type": "code",
   "execution_count": 5,
   "id": "8f131c2a",
   "metadata": {},
   "outputs": [
    {
     "name": "stdout",
     "output_type": "stream",
     "text": [
      "Enter end time in format: YYYY-MM-DD \n",
      "2020-07-28\n"
     ]
    }
   ],
   "source": [
    "end_time = input('Enter end time in format: YYYY-MM-DD \\n')"
   ]
  },
  {
   "cell_type": "markdown",
   "id": "044eb76d",
   "metadata": {},
   "source": [
    "**To find Sentinel-5P TROPOMI Tropospheric NO2 1-Orbit L2 5.5km x 3.5km V1 (2019-08-06 to 2021-07-01) and V2 (2021-07-01-ongoing); short name : S5P_L2__NO2____HiR ; at GES DISC\n",
    "granules for given dates and access their metadata using get() method**"
   ]
  },
  {
   "cell_type": "code",
   "execution_count": 6,
   "id": "dbea3055",
   "metadata": {},
   "outputs": [
    {
     "data": {
      "text/plain": [
       "[Collection: {'ShortName': 'S5P_L2__NO2____HiR', 'Version': '1'}\n",
       " Spatial coverage: {'HorizontalSpatialDomain': {'Geometry': {'GPolygons': [{'Boundary': {'Points': [{'Longitude': 20.662, 'Latitude': -66.81}, {'Longitude': 2.24, 'Latitude': -62.111}, {'Longitude': -63.423, 'Latitude': -72.224}, {'Longitude': -76.124, 'Latitude': -80.97}, {'Longitude': 20.662, 'Latitude': -66.81}]}}, {'Boundary': {'Points': [{'Longitude': 3.509, 'Latitude': -62.609}, {'Longitude': -9.488, 'Latitude': -56.192}, {'Longitude': -60.417, 'Latitude': -64.381}, {'Longitude': -64.194, 'Latitude': -73.47}, {'Longitude': 3.509, 'Latitude': -62.609}]}}, {'Boundary': {'Points': [{'Longitude': -8.62, 'Latitude': -56.811}, {'Longitude': -17.758, 'Latitude': -49.407}, {'Longitude': -59.447, 'Latitude': -56.446}, {'Longitude': -60.611, 'Latitude': -65.627}, {'Longitude': -8.62, 'Latitude': -56.811}]}}, {'Boundary': {'Points': [{'Longitude': -17.15, 'Latitude': -50.102}, {'Longitude': -23.807, 'Latitude': -42.12}, {'Longitude': -59.383, 'Latitude': -48.46}, {'Longitude': -59.427, 'Latitude': -57.672}, {'Longitude': -17.15, 'Latitude': -50.102}]}}, {'Boundary': {'Points': [{'Longitude': -23.362, 'Latitude': -42.869}, {'Longitude': -28.422, 'Latitude': -34.525}, {'Longitude': -59.822, 'Latitude': -40.436}, {'Longitude': -59.264, 'Latitude': -49.654}, {'Longitude': -23.362, 'Latitude': -42.869}]}}, {'Boundary': {'Points': [{'Longitude': -28.08, 'Latitude': -35.316}, {'Longitude': -32.081, 'Latitude': -26.732}, {'Longitude': -60.591, 'Latitude': -32.382}, {'Longitude': -59.652, 'Latitude': -41.593}, {'Longitude': -28.08, 'Latitude': -35.316}]}}, {'Boundary': {'Points': [{'Longitude': -31.803, 'Latitude': -27.561}, {'Longitude': -35.074, 'Latitude': -18.807}, {'Longitude': -61.614, 'Latitude': -24.304}, {'Longitude': -60.394, 'Latitude': -33.497}, {'Longitude': -31.803, 'Latitude': -27.561}]}}, {'Boundary': {'Points': [{'Longitude': -34.838, 'Latitude': -19.67}, {'Longitude': -37.584, 'Latitude': -10.791}, {'Longitude': -62.858, 'Latitude': -16.21}, {'Longitude': -61.401, 'Latitude': -25.375}, {'Longitude': -34.838, 'Latitude': -19.67}]}}, {'Boundary': {'Points': [{'Longitude': -37.376, 'Latitude': -11.689}, {'Longitude': -39.729, 'Latitude': -2.714}, {'Longitude': -64.32, 'Latitude': -8.11}, {'Longitude': -62.636, 'Latitude': -17.237}, {'Longitude': -37.376, 'Latitude': -11.689}]}}, {'Boundary': {'Points': [{'Longitude': -39.538, 'Latitude': -3.648}, {'Longitude': -41.585, 'Latitude': 5.401}, {'Longitude': -66.016, 'Latitude': -0.016}, {'Longitude': -64.09, 'Latitude': -9.092}, {'Longitude': -39.538, 'Latitude': -3.648}]}}, {'Boundary': {'Points': [{'Longitude': -41.405, 'Latitude': 4.432}, {'Longitude': -43.198, 'Latitude': 13.538}, {'Longitude': -67.986, 'Latitude': 8.056}, {'Longitude': -65.779, 'Latitude': -0.955}, {'Longitude': -41.405, 'Latitude': 4.432}]}}, {'Boundary': {'Points': [{'Longitude': -43.025, 'Latitude': 12.532}, {'Longitude': -44.593, 'Latitude': 21.683}, {'Longitude': -70.294, 'Latitude': 16.087}, {'Longitude': -67.737, 'Latitude': 7.158}, {'Longitude': -43.025, 'Latitude': 12.532}]}}, {'Boundary': {'Points': [{'Longitude': -44.419, 'Latitude': 20.64}, {'Longitude': -45.767, 'Latitude': 29.825}, {'Longitude': -73.05, 'Latitude': 24.046}, {'Longitude': -70.036, 'Latitude': 15.225}, {'Longitude': -44.419, 'Latitude': 20.64}]}}, {'Boundary': {'Points': [{'Longitude': -45.603, 'Latitude': 28.744}, {'Longitude': -46.709, 'Latitude': 37.953}, {'Longitude': -76.401, 'Latitude': 31.898}, {'Longitude': -72.761, 'Latitude': 23.222}, {'Longitude': -45.603, 'Latitude': 28.744}]}}, {'Boundary': {'Points': [{'Longitude': -46.564, 'Latitude': 36.836}, {'Longitude': -47.367, 'Latitude': 46.059}, {'Longitude': -80.595, 'Latitude': 39.589}, {'Longitude': -76.061, 'Latitude': 31.114}, {'Longitude': -46.564, 'Latitude': 36.836}]}}, {'Boundary': {'Points': [{'Longitude': -47.255, 'Latitude': 44.907}, {'Longitude': -47.614, 'Latitude': 54.134}, {'Longitude': -86.036, 'Latitude': 47.026}, {'Longitude': -80.176, 'Latitude': 38.846}, {'Longitude': -47.255, 'Latitude': 44.907}]}}, {'Boundary': {'Points': [{'Longitude': -47.566, 'Latitude': 52.952}, {'Longitude': -47.163, 'Latitude': 62.167}, {'Longitude': -93.398, 'Latitude': 54.049}, {'Longitude': -85.491, 'Latitude': 46.331}, {'Longitude': -47.566, 'Latitude': 52.952}]}}, {'Boundary': {'Points': [{'Longitude': -47.247, 'Latitude': 60.962}, {'Longitude': -45.245, 'Latitude': 70.132}, {'Longitude': -103.78, 'Latitude': 60.363}, {'Longitude': -92.651, 'Latitude': 53.417}, {'Longitude': -47.247, 'Latitude': 60.962}]}}, {'Boundary': {'Points': [{'Longitude': -45.649, 'Latitude': 68.917}, {'Longitude': -39.091, 'Latitude': 77.937}, {'Longitude': -118.711, 'Latitude': 65.417}, {'Longitude': -102.711, 'Latitude': 59.826}, {'Longitude': -45.649, 'Latitude': 68.917}]}}, {'Boundary': {'Points': [{'Longitude': -40.577, 'Latitude': 76.744}, {'Longitude': -10.306, 'Latitude': 84.874}, {'Longitude': -139.032, 'Latitude': 68.311}, {'Longitude': -117.18, 'Latitude': 65.035}, {'Longitude': -40.577, 'Latitude': 76.744}]}}, {'Boundary': {'Points': [{'Longitude': -19.095, 'Latitude': 83.969}, {'Longitude': 80.179, 'Latitude': 83.96}, {'Longitude': -161.949, 'Latitude': 68.167}, {'Longitude': -137.068, 'Latitude': 68.169}, {'Longitude': -19.095, 'Latitude': 83.969}]}}, {'Boundary': {'Points': [{'Longitude': 71.424, 'Latitude': 84.866}, {'Longitude': 101.609, 'Latitude': 76.733}, {'Longitude': 178.169, 'Latitude': 65.029}, {'Longitude': -159.985, 'Latitude': 68.31}, {'Longitude': 71.424, 'Latitude': 84.866}]}}, {'Boundary': {'Points': [{'Longitude': 100.133, 'Latitude': 77.925}, {'Longitude': 106.676, 'Latitude': 68.904}, {'Longitude': 163.704, 'Latitude': 59.818}, {'Longitude': 179.697, 'Latitude': 65.413}, {'Longitude': 100.133, 'Latitude': 77.925}]}}, {'Boundary': {'Points': [{'Longitude': 106.277, 'Latitude': 70.119}, {'Longitude': 108.272, 'Latitude': 60.947}, {'Longitude': 153.646, 'Latitude': 53.407}, {'Longitude': 164.77, 'Latitude': 60.356}, {'Longitude': 106.277, 'Latitude': 70.119}]}}, {'Boundary': {'Points': [{'Longitude': 108.186, 'Latitude': 62.133}, {'Longitude': 108.592, 'Latitude': 54.484}, {'Longitude': 147.664, 'Latitude': 47.689}, {'Longitude': 154.413, 'Latitude': 54.055}, {'Longitude': 108.186, 'Latitude': 62.133}]}}]}}}\n",
       " Temporal coverage: {'RangeDateTime': {'BeginningDateTime': '2020-07-27T16:39:44.000Z', 'EndingDateTime': '2020-07-27T17:38:07.000Z'}}\n",
       " Size(MB): 433.69993686676025\n",
       " Data: ['https://data.gesdisc.earthdata.nasa.gov/data/S5P_TROPOMI_Level2/S5P_L2__NO2____HiR.1/2020/209/S5P_OFFL_L2__NO2____20200727T161809_20200727T175938_14447_01_010302_20200802T075957.nc', 's3://gesdisc-cumulus-prod-protected/S5P_TROPOMI_Level2/S5P_L2__NO2____HiR.1/2020/209/S5P_OFFL_L2__NO2____20200727T161809_20200727T175938_14447_01_010302_20200802T075957.nc'],\n",
       " Collection: {'ShortName': 'S5P_L2__NO2____HiR', 'Version': '1'}\n",
       " Spatial coverage: {'HorizontalSpatialDomain': {'Geometry': {'GPolygons': [{'Boundary': {'Points': [{'Longitude': -4.585, 'Latitude': -66.833}, {'Longitude': -23.047, 'Latitude': -62.148}, {'Longitude': -88.828, 'Latitude': -72.275}, {'Longitude': -101.645, 'Latitude': -81.016}, {'Longitude': -4.585, 'Latitude': -66.833}]}}, {'Boundary': {'Points': [{'Longitude': -21.776, 'Latitude': -62.645}, {'Longitude': -34.804, 'Latitude': -56.236}, {'Longitude': -85.801, 'Latitude': -64.432}, {'Longitude': -89.605, 'Latitude': -73.52}, {'Longitude': -21.776, 'Latitude': -62.645}]}}, {'Boundary': {'Points': [{'Longitude': -33.933, 'Latitude': -56.854}, {'Longitude': -43.091, 'Latitude': -49.455}, {'Longitude': -84.823, 'Latitude': -56.497}, {'Longitude': -85.996, 'Latitude': -65.678}, {'Longitude': -33.933, 'Latitude': -56.854}]}}, {'Boundary': {'Points': [{'Longitude': -42.482, 'Latitude': -50.149}, {'Longitude': -49.151, 'Latitude': -42.17}, {'Longitude': -84.755, 'Latitude': -48.511}, {'Longitude': -84.803, 'Latitude': -57.723}, {'Longitude': -42.482, 'Latitude': -50.149}]}}, {'Boundary': {'Points': [{'Longitude': -48.705, 'Latitude': -42.918}, {'Longitude': -53.773, 'Latitude': -34.576}, {'Longitude': -85.191, 'Latitude': -40.487}, {'Longitude': -84.636, 'Latitude': -49.705}, {'Longitude': -48.705, 'Latitude': -42.918}]}}, {'Boundary': {'Points': [{'Longitude': -53.43, 'Latitude': -35.367}, {'Longitude': -57.436, 'Latitude': -26.783}, {'Longitude': -85.958, 'Latitude': -32.433}, {'Longitude': -85.021, 'Latitude': -41.644}, {'Longitude': -53.43, 'Latitude': -35.367}]}}, {'Boundary': {'Points': [{'Longitude': -57.158, 'Latitude': -27.611}, {'Longitude': -60.432, 'Latitude': -18.858}, {'Longitude': -86.979, 'Latitude': -24.355}, {'Longitude': -85.762, 'Latitude': -33.548}, {'Longitude': -57.158, 'Latitude': -27.611}]}}, {'Boundary': {'Points': [{'Longitude': -60.197, 'Latitude': -19.721}, {'Longitude': -62.945, 'Latitude': -10.842}, {'Longitude': -88.222, 'Latitude': -16.26}, {'Longitude': -86.767, 'Latitude': -25.426}, {'Longitude': -60.197, 'Latitude': -19.721}]}}, {'Boundary': {'Points': [{'Longitude': -62.737, 'Latitude': -11.74}, {'Longitude': -65.092, 'Latitude': -2.766}, {'Longitude': -89.682, 'Latitude': -8.16}, {'Longitude': -88.0, 'Latitude': -17.287}, {'Longitude': -62.737, 'Latitude': -11.74}]}}, {'Boundary': {'Points': [{'Longitude': -64.901, 'Latitude': -3.699}, {'Longitude': -66.949, 'Latitude': 5.35}, {'Longitude': -91.377, 'Latitude': -0.066}, {'Longitude': -89.453, 'Latitude': -9.143}, {'Longitude': -64.901, 'Latitude': -3.699}]}}, {'Boundary': {'Points': [{'Longitude': -66.768, 'Latitude': 4.38}, {'Longitude': -68.562, 'Latitude': 13.487}, {'Longitude': -93.345, 'Latitude': 8.007}, {'Longitude': -91.14, 'Latitude': -1.006}, {'Longitude': -66.768, 'Latitude': 4.38}]}}, {'Boundary': {'Points': [{'Longitude': -68.39, 'Latitude': 12.481}, {'Longitude': -69.959, 'Latitude': 21.631}, {'Longitude': -95.651, 'Latitude': 16.037}, {'Longitude': -93.097, 'Latitude': 7.108}, {'Longitude': -68.39, 'Latitude': 12.481}]}}, {'Boundary': {'Points': [{'Longitude': -69.784, 'Latitude': 20.59}, {'Longitude': -71.133, 'Latitude': 29.774}, {'Longitude': -98.404, 'Latitude': 23.997}, {'Longitude': -95.393, 'Latitude': 15.176}, {'Longitude': -69.784, 'Latitude': 20.59}]}}, {'Boundary': {'Points': [{'Longitude': -70.969, 'Latitude': 28.694}, {'Longitude': -72.077, 'Latitude': 37.903}, {'Longitude': -101.75, 'Latitude': 31.851}, {'Longitude': -98.114, 'Latitude': 23.173}, {'Longitude': -70.969, 'Latitude': 28.694}]}}, {'Boundary': {'Points': [{'Longitude': -71.931, 'Latitude': 36.785}, {'Longitude': -72.736, 'Latitude': 46.009}, {'Longitude': -105.937, 'Latitude': 39.543}, {'Longitude': -101.411, 'Latitude': 31.066}, {'Longitude': -71.931, 'Latitude': 36.785}]}}, {'Boundary': {'Points': [{'Longitude': -72.624, 'Latitude': 44.857}, {'Longitude': -72.986, 'Latitude': 54.084}, {'Longitude': -111.368, 'Latitude': 46.982}, {'Longitude': -105.519, 'Latitude': 38.799}, {'Longitude': -72.624, 'Latitude': 44.857}]}}, {'Boundary': {'Points': [{'Longitude': -72.937, 'Latitude': 52.902}, {'Longitude': -72.54, 'Latitude': 62.117}, {'Longitude': -118.715, 'Latitude': 54.008}, {'Longitude': -110.825, 'Latitude': 46.286}, {'Longitude': -72.937, 'Latitude': 52.902}]}}, {'Boundary': {'Points': [{'Longitude': -72.623, 'Latitude': 60.912}, {'Longitude': -70.634, 'Latitude': 70.083}, {'Longitude': -129.075, 'Latitude': 60.329}, {'Longitude': -117.97, 'Latitude': 53.376}, {'Longitude': -72.623, 'Latitude': 60.912}]}}, {'Boundary': {'Points': [{'Longitude': -71.035, 'Latitude': 68.868}, {'Longitude': -64.524, 'Latitude': 77.889}, {'Longitude': -143.974, 'Latitude': 65.393}, {'Longitude': -128.008, 'Latitude': 59.79}, {'Longitude': -71.035, 'Latitude': 68.868}]}}, {'Boundary': {'Points': [{'Longitude': -65.997, 'Latitude': 76.696}, {'Longitude': -36.072, 'Latitude': 84.84}, {'Longitude': -164.266, 'Latitude': 68.303}, {'Longitude': -142.446, 'Latitude': 65.009}, {'Longitude': -65.997, 'Latitude': 76.696}]}}, {'Boundary': {'Points': [{'Longitude': -44.747, 'Latitude': 83.93}, {'Longitude': 54.501, 'Latitude': 83.997}, {'Longitude': 172.815, 'Latitude': 68.178}, {'Longitude': -162.303, 'Latitude': 68.159}, {'Longitude': -44.747, 'Latitude': 83.93}]}}, {'Boundary': {'Points': [{'Longitude': 45.628, 'Latitude': 84.898}, {'Longitude': 76.175, 'Latitude': 76.78}, {'Longitude': 152.901, 'Latitude': 65.056}, {'Longitude': 174.78, 'Latitude': 68.32}, {'Longitude': 45.628, 'Latitude': 84.898}]}}, {'Boundary': {'Points': [{'Longitude': 74.684, 'Latitude': 77.972}, {'Longitude': 81.281, 'Latitude': 68.953}, {'Longitude': 138.404, 'Latitude': 59.855}, {'Longitude': 154.433, 'Latitude': 65.439}, {'Longitude': 74.684, 'Latitude': 77.972}]}}, {'Boundary': {'Points': [{'Longitude': 80.878, 'Latitude': 70.168}, {'Longitude': 82.89, 'Latitude': 60.997}, {'Longitude': 128.325, 'Latitude': 53.449}, {'Longitude': 139.473, 'Latitude': 60.393}, {'Longitude': 80.878, 'Latitude': 70.168}]}}, {'Boundary': {'Points': [{'Longitude': 82.803, 'Latitude': 62.182}, {'Longitude': 83.215, 'Latitude': 54.534}, {'Longitude': 122.331, 'Latitude': 47.734}, {'Longitude': 129.094, 'Latitude': 54.097}, {'Longitude': 82.803, 'Latitude': 62.182}]}}]}}}\n",
       " Temporal coverage: {'RangeDateTime': {'BeginningDateTime': '2020-07-27T18:21:12.000Z', 'EndingDateTime': '2020-07-27T19:19:36.000Z'}}\n",
       " Size(MB): 439.7374544143677\n",
       " Data: ['https://data.gesdisc.earthdata.nasa.gov/data/S5P_TROPOMI_Level2/S5P_L2__NO2____HiR.1/2020/209/S5P_OFFL_L2__NO2____20200727T175938_20200727T194108_14448_01_010302_20200802T081133.nc', 's3://gesdisc-cumulus-prod-protected/S5P_TROPOMI_Level2/S5P_L2__NO2____HiR.1/2020/209/S5P_OFFL_L2__NO2____20200727T175938_20200727T194108_14448_01_010302_20200802T081133.nc']]"
      ]
     },
     "execution_count": 6,
     "metadata": {},
     "output_type": "execute_result"
    }
   ],
   "source": [
    "### We build our query, note as TROPOMI data comes 1file per orbit so we can temporally query the data### \n",
    "###spatial query : OTTAWA ###\n",
    "###Please enter the location coordinates in bounding_box() in sequence: 'lower_left_lon', 'lower_left_lat', 'upper_right_lon', and 'upper_right_lat' \n",
    "###The short name for collection was found from cell[2]###\n",
    "\n",
    "from pprint import pprint\n",
    "Query = DataGranules().short_name('S5P_L2__NO2____HiR').bounding_box(-77.816162,44.474779,-73.937989,45.968509).temporal(start_time,end_time)\n",
    "\n",
    "###We get all metadata records###\n",
    "granules = Query.get()\n",
    "\n",
    "granules"
   ]
  },
  {
   "cell_type": "markdown",
   "id": "7a3300a5",
   "metadata": {},
   "source": [
    "**Please note that Sentinel-5P TROPOMI Tropospheric NO2 1-Orbit L2 7km x 3.5km V1(S5P_L2__NO2___) at GES DIS \n",
    "staring from 2018-04-30 till 2019-08-06 can be accessed similarly using short name 'S5P_L2__NO2___' in the above code**"
   ]
  },
  {
   "cell_type": "code",
   "execution_count": 7,
   "id": "c4cb3dd8",
   "metadata": {},
   "outputs": [
    {
     "data": {
      "text/plain": [
       "2"
      ]
     },
     "execution_count": 7,
     "metadata": {},
     "output_type": "execute_result"
    }
   ],
   "source": [
    "##length of spatiallly and temporally queried S5P_NO2 data\n",
    "\n",
    "len(granules)"
   ]
  },
  {
   "cell_type": "code",
   "execution_count": 8,
   "id": "64b32fb8",
   "metadata": {},
   "outputs": [
    {
     "data": {
      "text/plain": [
       "14"
      ]
     },
     "execution_count": 8,
     "metadata": {},
     "output_type": "execute_result"
    }
   ],
   "source": [
    "###a check just for verification: total number of files just temporally queried S5P_NO2 data (no spatial query inputed)\n",
    "\n",
    "from pprint import pprint\n",
    "Query = DataGranules().short_name('S5P_L2__NO2____HiR').temporal(start_time,end_time)\n",
    "\n",
    "###We get all metadata records###\n",
    "granules_1 = Query.get()\n",
    "\n",
    "len(granules_1)\n",
    "\n",
    "##note that the len(granule_1) is way more than len(granules) hence we are able to sort the tropomi data spatially and temorally"
   ]
  },
  {
   "cell_type": "code",
   "execution_count": 9,
   "id": "b7f595cb",
   "metadata": {},
   "outputs": [],
   "source": [
    "###explore granules metadata###\n",
    "#[display(granule) for granule in granules]"
   ]
  },
  {
   "cell_type": "markdown",
   "id": "f26f77d3",
   "metadata": {},
   "source": [
    "**Now lets try to extract data URLS from the metadata of each datasets of our interest**"
   ]
  },
  {
   "cell_type": "code",
   "execution_count": 10,
   "id": "70657b0f",
   "metadata": {},
   "outputs": [
    {
     "name": "stdout",
     "output_type": "stream",
     "text": [
      "[['https://data.gesdisc.earthdata.nasa.gov/data/S5P_TROPOMI_Level2/S5P_L2__NO2____HiR.1/2020/209/S5P_OFFL_L2__NO2____20200727T161809_20200727T175938_14447_01_010302_20200802T075957.nc', 's3://gesdisc-cumulus-prod-protected/S5P_TROPOMI_Level2/S5P_L2__NO2____HiR.1/2020/209/S5P_OFFL_L2__NO2____20200727T161809_20200727T175938_14447_01_010302_20200802T075957.nc'], ['https://data.gesdisc.earthdata.nasa.gov/data/S5P_TROPOMI_Level2/S5P_L2__NO2____HiR.1/2020/209/S5P_OFFL_L2__NO2____20200727T175938_20200727T194108_14448_01_010302_20200802T081133.nc', 's3://gesdisc-cumulus-prod-protected/S5P_TROPOMI_Level2/S5P_L2__NO2____HiR.1/2020/209/S5P_OFFL_L2__NO2____20200727T175938_20200727T194108_14448_01_010302_20200802T081133.nc']]\n"
     ]
    }
   ],
   "source": [
    "data_links = [granule.data_links() for granule in granules]\n",
    "\n",
    "print(data_links)\n",
    "#type(data_links)"
   ]
  },
  {
   "cell_type": "markdown",
   "id": "0e637fd8",
   "metadata": {},
   "source": [
    "**OOPS!! we are not able to access the NASA GESDISC DATA ARCHIVE server to directly download the files using get() method from earthdata library so lets take a long cut (atleast for time being)**"
   ]
  },
  {
   "cell_type": "markdown",
   "id": "1c6a855c",
   "metadata": {},
   "source": [
    "**'https' url for GES-DAAC server and 's3'for AWS are sorted...**"
   ]
  },
  {
   "cell_type": "code",
   "execution_count": 11,
   "id": "7ba3924f",
   "metadata": {},
   "outputs": [
    {
     "name": "stdout",
     "output_type": "stream",
     "text": [
      "0    https://data.gesdisc.earthdata.nasa.gov/data/S...\n",
      "1    https://data.gesdisc.earthdata.nasa.gov/data/S...\n",
      "Name: https, dtype: object\n"
     ]
    }
   ],
   "source": [
    "##covert list to dataframe .. a long cut again :)\n",
    "import pandas as pd\n",
    "df = pd.DataFrame(data_links, columns = ['https' , 'sf3'])\n",
    "\n",
    "##converted dataframe back to list sorting hhtps urls\n",
    "inprem = df['https']#.values.tolist()\n",
    "print(inprem)\n",
    " \n",
    "##Sort nc or h5 from list : work in progress\n",
    "#sort_order = ['nc']\n",
    "#inprem.sort(key = lambda i: sort_order) # works in python 3\n",
    " \n",
    "##printing result\n",
    "#print (\"The sorted list is : \" + str(inprem))"
   ]
  },
  {
   "cell_type": "markdown",
   "id": "a9d982bd",
   "metadata": {},
   "source": [
    "***Finally now, https urls for GHRC-DAAC server are opened using loop and temporarily sorted files are downloaded ;)***"
   ]
  },
  {
   "cell_type": "code",
   "execution_count": 12,
   "id": "5d31156e",
   "metadata": {},
   "outputs": [],
   "source": [
    "##Works https url opens and data is downloaded to downloads as default location\n",
    "#url_list = ['https://data.gesdisc.earthdata.nasa.gov/data/S5P_TROPOMI_Level2/S5P_L2__NO2____HiR.1/2021/060/S5P_OFFL_L2__NO2____20210301T232825_20210302T010956_17530_01_010400_20210303T163111.nc', 'https://data.gesdisc.earthdata.nasa.gov/data/S5P_TROPOMI_Level2/S5P_L2__NO2____HiR.1/2021/113/S5P_OFFL_L2__NO2____20210423T014106_20210423T032236_18269_01_010400_20210424T183027.nc']\n",
    "\n",
    "import webbrowser\n",
    "for url in inprem:\n",
    "    response = webbrowser.open(url)"
   ]
  },
  {
   "cell_type": "markdown",
   "id": "57f31245",
   "metadata": {},
   "source": [
    "***THE CODE ENDs***"
   ]
  },
  {
   "cell_type": "markdown",
   "id": "47f79768",
   "metadata": {},
   "source": [
    "."
   ]
  },
  {
   "cell_type": "markdown",
   "id": "903c176a",
   "metadata": {},
   "source": [
    "**Issues yet to be addressed:**\n",
    "1) Not able to access the files from locall DAAC server directly using get() method\n",
    "(By default the AWS links gets accessed and no file is downloaded)\n",
    "\n",
    "2) Have used URL open method to download files but all files are saved in downloads: How to change the directory ?"
   ]
  },
  {
   "cell_type": "raw",
   "id": "79657961",
   "metadata": {},
   "source": [
    "#NOT WORKING: General method to download data by earthdata API but no data is downloaded from s3 links for TROPOMI S5P data\n",
    "\n",
    "(\n",
    "a quick try; please check open the below links of a same given dataset and check if you are able to download the data using s3 link:\n",
    "https://data.gesdisc.earthdata.nasa.gov/data/S5P_TROPOMI_Level2/S5P_L2__NO2____HiR.1/2021/113/S5P_OFFL_L2__NO2____20210423T014106_20210423T032236_18269_01_010400_20210424T183027.nc\n",
    "s3://gesdisc-cumulus-prod-protected/S5P_TROPOMI_Level2/S5P_L2__NO2____HiR.1/2021/113/S5P_OFFL_L2__NO2____20210423T014106_20210423T032236_18269_01_010400_20210424T183027.nc\n",
    ")\n",
    "\n",
    "\n",
    "#data_links = [granule.data_links(access=\"direct\") for granule in granules]\n",
    "##or if the data is an on-prem dataset\n",
    "#data_links = [granule.data_links(access=\"onprem\") for granule in granules]\n",
    "\n",
    "## The Store class allows to get the granules from on-prem locations with get()\n",
    "## NOTE: Some datasets require users to accept a Licence Agreement before accessing them\n",
    "\n",
    "#store = Store(auth)\n",
    "#files = store.get(granules, local_path=\"./data/\")"
   ]
  },
  {
   "cell_type": "markdown",
   "id": "1f018b30",
   "metadata": {},
   "source": [
    "NOT WORKING: Download URL method not working\n",
    "\n",
    "#import requests\n",
    "#response = requests.get('https://data.gesdisc.earthdata.nasa.gov/data/S5P_TROPOMI_Level2/S5P_L2__NO2____HiR.1/2021/113/S5P_OFFL_L2__NO2____20210423T014106_20210423T032236_18269_01_010400_20210424T183027.nc')"
   ]
  }
 ],
 "metadata": {
  "kernelspec": {
   "display_name": "GEODACenv",
   "language": "python",
   "name": "geodacenv"
  },
  "language_info": {
   "codemirror_mode": {
    "name": "ipython",
    "version": 3
   },
   "file_extension": ".py",
   "mimetype": "text/x-python",
   "name": "python",
   "nbconvert_exporter": "python",
   "pygments_lexer": "ipython3",
   "version": "3.10.4"
  }
 },
 "nbformat": 4,
 "nbformat_minor": 5
}
