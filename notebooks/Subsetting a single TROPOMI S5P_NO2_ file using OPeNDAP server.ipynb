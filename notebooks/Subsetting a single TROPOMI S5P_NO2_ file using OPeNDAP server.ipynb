{
 "cells": [
  {
   "cell_type": "markdown",
   "id": "de4b4763",
   "metadata": {},
   "source": [
    "# Subsetting a single TROPOMI S5P_NO2_  file using OPeNDAP server"
   ]
  },
  {
   "cell_type": "markdown",
   "id": "beaf6f0e",
   "metadata": {},
   "source": [
    "**Note here we need NASA authentication as we are accessing the files from NASA GESDISC DATA ARCHIVE*"
   ]
  },
  {
   "cell_type": "markdown",
   "id": "03109d9c",
   "metadata": {},
   "source": [
    "### In this example we would be using python 'pydap' library to access the OPeNDAP server and query TROPOMI S5P_NO2_ wrt time&space ###\n",
    "\n",
    "*For more information on pydap, please check the link: https://www.pydap.org/en/latest/*\n",
    "\n",
    "**MOST importantly quering data without actually downloading large 'TROPOMI S5P_NO2_' data files (~500MB each) will save lot of computer memory**"
   ]
  },
  {
   "cell_type": "code",
   "execution_count": 8,
   "id": "5221a968",
   "metadata": {},
   "outputs": [
    {
     "name": "stdout",
     "output_type": "stream",
     "text": [
      "PLease enter your NASA earthdata login Password: ········\n"
     ]
    }
   ],
   "source": [
    "from pydap.client import open_url\n",
    "from getpass import getpass  ### library to hide and encrypt password\n",
    "from pydap.cas.urs import setup_session\n",
    "import numpy as np\n",
    "\n",
    "opendap_url = 'https://tropomi.gesdisc.eosdis.nasa.gov/opendap/hyrax/S5P_TROPOMI_Level2/S5P_L2__NO2____HiR.1/2019/219/S5P_OFFL_L2__NO2____20190807T020100_20190807T034230_09402_01_010302_20190813T034351.nc'\n",
    "\n",
    "username = 'adi205'   ###PLease enter your own NASA earthdata login Username\n",
    "password = getpass('PLease enter your NASA earthdata login Password: ')\n",
    "\n",
    "session = setup_session(username, password, check_url=opendap_url)\n",
    "\n",
    "dataset = open_url(opendap_url, session=session)"
   ]
  },
  {
   "cell_type": "code",
   "execution_count": 9,
   "id": "b5f97626",
   "metadata": {},
   "outputs": [
    {
     "name": "stdout",
     "output_type": "stream",
     "text": [
      "<DatasetType with children 'METADATA_QA_STATISTICS_nitrogendioxide_total_column_pdf_bounds', 'METADATA_QA_STATISTICS_nitrogendioxide_stratospheric_column_pdf_bounds', 'METADATA_QA_STATISTICS_nitrogendioxide_tropospheric_column_pdf_bounds', 'METADATA_QA_STATISTICS_nitrogendioxide_stratospheric_column_pdf', 'METADATA_QA_STATISTICS_nitrogendioxide_stratospheric_column_histogram_bounds', 'METADATA_QA_STATISTICS_nitrogendioxide_stratospheric_column_histogram', 'METADATA_QA_STATISTICS_nitrogendioxide_total_column_histogram', 'METADATA_QA_STATISTICS_nitrogendioxide_total_column_pdf', 'METADATA_QA_STATISTICS_nitrogendioxide_tropospheric_column_histogram_bounds', 'METADATA_QA_STATISTICS_nitrogendioxide_tropospheric_column_pdf', 'METADATA_QA_STATISTICS_nitrogendioxide_total_column_histogram_bounds', 'METADATA_QA_STATISTICS_nitrogendioxide_tropospheric_column_histogram', 'PRODUCT_tm5_constant_b', 'PRODUCT_averaging_kernel', 'PRODUCT_tm5_tropopause_layer_index', 'PRODUCT_tm5_constant_a', 'PRODUCT_SUPPORT_DATA_GEOLOCATIONS_satellite_altitude', 'PRODUCT_SUPPORT_DATA_GEOLOCATIONS_solar_azimuth_angle', 'PRODUCT_SUPPORT_DATA_GEOLOCATIONS_solar_zenith_angle', 'PRODUCT_SUPPORT_DATA_GEOLOCATIONS_longitude_bounds', 'PRODUCT_SUPPORT_DATA_GEOLOCATIONS_geolocation_flags', 'PRODUCT_SUPPORT_DATA_GEOLOCATIONS_satellite_orbit_phase', 'PRODUCT_SUPPORT_DATA_GEOLOCATIONS_viewing_zenith_angle', 'PRODUCT_SUPPORT_DATA_GEOLOCATIONS_latitude_bounds', 'PRODUCT_SUPPORT_DATA_GEOLOCATIONS_viewing_azimuth_angle', 'PRODUCT_SUPPORT_DATA_DETAILED_RESULTS_water_slant_column_density', 'PRODUCT_SUPPORT_DATA_DETAILED_RESULTS_nitrogendioxide_ghost_column', 'PRODUCT_SUPPORT_DATA_DETAILED_RESULTS_nitrogendioxide_summed_total_column_precision', 'PRODUCT_SUPPORT_DATA_DETAILED_RESULTS_nitrogendioxide_summed_total_column', 'PRODUCT_SUPPORT_DATA_DETAILED_RESULTS_intensity_offset_coefficients', 'PRODUCT_SUPPORT_DATA_DETAILED_RESULTS_wavelength_calibration_chi_square', 'PRODUCT_SUPPORT_DATA_DETAILED_RESULTS_water_liquid_slant_column_density', 'PRODUCT_SUPPORT_DATA_DETAILED_RESULTS_ring_coefficient', 'PRODUCT_SUPPORT_DATA_DETAILED_RESULTS_number_of_spectral_points_in_retrieval', 'PRODUCT_SUPPORT_DATA_DETAILED_RESULTS_water_slant_column_density_precision', 'PRODUCT_SUPPORT_DATA_DETAILED_RESULTS_cloud_radiance_fraction_nitrogendioxide_window', 'PRODUCT_SUPPORT_DATA_DETAILED_RESULTS_nitrogendioxide_total_column_precision', 'PRODUCT_SUPPORT_DATA_DETAILED_RESULTS_wavelength_calibration_irradiance_chi_square', 'PRODUCT_SUPPORT_DATA_DETAILED_RESULTS_wavelength_calibration_stretch_precision', 'PRODUCT_SUPPORT_DATA_DETAILED_RESULTS_nitrogendioxide_slant_column_density_precision', 'PRODUCT_SUPPORT_DATA_DETAILED_RESULTS_nitrogendioxide_slant_column_density', 'PRODUCT_SUPPORT_DATA_DETAILED_RESULTS_intensity_offset_coefficients_precision', 'PRODUCT_SUPPORT_DATA_DETAILED_RESULTS_nitrogendioxide_total_column_precision_kernel', 'PRODUCT_SUPPORT_DATA_DETAILED_RESULTS_processing_quality_flags', 'PRODUCT_SUPPORT_DATA_DETAILED_RESULTS_number_of_iterations', 'PRODUCT_SUPPORT_DATA_DETAILED_RESULTS_polynomial_coefficients', 'PRODUCT_SUPPORT_DATA_DETAILED_RESULTS_air_mass_factor_stratosphere', 'PRODUCT_SUPPORT_DATA_DETAILED_RESULTS_cloud_fraction_crb_nitrogendioxide_window', 'PRODUCT_SUPPORT_DATA_DETAILED_RESULTS_nitrogendioxide_total_column', 'PRODUCT_SUPPORT_DATA_DETAILED_RESULTS_wavelength_calibration_offset_precision', 'PRODUCT_SUPPORT_DATA_DETAILED_RESULTS_chi_square', 'PRODUCT_SUPPORT_DATA_DETAILED_RESULTS_nitrogendioxide_slant_column_density_stripe_amplitude', 'PRODUCT_SUPPORT_DATA_DETAILED_RESULTS_air_mass_factor_cloudy', 'PRODUCT_SUPPORT_DATA_DETAILED_RESULTS_wavelength_calibration_stretch', 'PRODUCT_SUPPORT_DATA_DETAILED_RESULTS_polynomial_coefficients_precision', 'PRODUCT_SUPPORT_DATA_DETAILED_RESULTS_degrees_of_freedom', 'PRODUCT_SUPPORT_DATA_DETAILED_RESULTS_wavelength_calibration_offset', 'PRODUCT_SUPPORT_DATA_DETAILED_RESULTS_oxygen_oxygen_dimer_slant_column_density', 'PRODUCT_SUPPORT_DATA_DETAILED_RESULTS_wavelength_calibration_irradiance_offset_precision', 'PRODUCT_SUPPORT_DATA_DETAILED_RESULTS_air_mass_factor_clear', 'PRODUCT_SUPPORT_DATA_DETAILED_RESULTS_root_mean_square_error_of_fit', 'PRODUCT_SUPPORT_DATA_DETAILED_RESULTS_oxygen_oxygen_dimer_slant_column_density_precision', 'PRODUCT_SUPPORT_DATA_DETAILED_RESULTS_water_liquid_slant_column_density_precision', 'PRODUCT_SUPPORT_DATA_DETAILED_RESULTS_wavelength_calibration_irradiance_offset', 'PRODUCT_SUPPORT_DATA_DETAILED_RESULTS_nitrogendioxide_stratospheric_column', 'PRODUCT_SUPPORT_DATA_DETAILED_RESULTS_ring_coefficient_precision', 'PRODUCT_SUPPORT_DATA_DETAILED_RESULTS_ozone_slant_column_density_precision', 'PRODUCT_SUPPORT_DATA_DETAILED_RESULTS_nitrogendioxide_stratospheric_column_precision', 'PRODUCT_SUPPORT_DATA_DETAILED_RESULTS_ozone_slant_column_density', 'PRODUCT_SUPPORT_DATA_INPUT_DATA_surface_pressure', 'PRODUCT_SUPPORT_DATA_INPUT_DATA_cloud_pressure_crb', 'PRODUCT_SUPPORT_DATA_INPUT_DATA_snow_ice_flag', 'PRODUCT_SUPPORT_DATA_INPUT_DATA_surface_altitude', 'PRODUCT_SUPPORT_DATA_INPUT_DATA_apparent_scene_pressure', 'PRODUCT_SUPPORT_DATA_INPUT_DATA_surface_albedo', 'PRODUCT_SUPPORT_DATA_INPUT_DATA_eastward_wind', 'PRODUCT_SUPPORT_DATA_INPUT_DATA_scene_albedo', 'PRODUCT_SUPPORT_DATA_INPUT_DATA_surface_albedo_nitrogendioxide_window', 'PRODUCT_SUPPORT_DATA_INPUT_DATA_cloud_albedo_crb', 'PRODUCT_SUPPORT_DATA_INPUT_DATA_surface_classification', 'PRODUCT_SUPPORT_DATA_INPUT_DATA_surface_altitude_precision', 'PRODUCT_SUPPORT_DATA_INPUT_DATA_cloud_fraction_crb', 'PRODUCT_SUPPORT_DATA_INPUT_DATA_instrument_configuration_version', 'PRODUCT_SUPPORT_DATA_INPUT_DATA_aerosol_index_354_388', 'PRODUCT_SUPPORT_DATA_INPUT_DATA_scaled_small_pixel_variance', 'PRODUCT_SUPPORT_DATA_INPUT_DATA_northward_wind', 'PRODUCT_SUPPORT_DATA_INPUT_DATA_instrument_configuration_identifier', 'PRODUCT_qa_value', 'PRODUCT_air_mass_factor_troposphere', 'PRODUCT_air_mass_factor_total', 'PRODUCT_longitude', 'PRODUCT_latitude', 'PRODUCT_nitrogendioxide_tropospheric_column_precision', 'PRODUCT_time_utc', 'PRODUCT_nitrogendioxide_tropospheric_column_precision_kernel', 'PRODUCT_delta_time', 'PRODUCT_nitrogendioxide_tropospheric_column', 'PRODUCT_scanline', 'PRODUCT_time', 'METADATA_QA_STATISTICS_nitrogendioxide_stratospheric_column_histogram_axis', 'METADATA_QA_STATISTICS_nitrogendioxide_stratospheric_column_pdf_axis', 'METADATA_QA_STATISTICS_nitrogendioxide_total_column_histogram_axis', 'METADATA_QA_STATISTICS_nitrogendioxide_total_column_pdf_axis', 'METADATA_QA_STATISTICS_nitrogendioxide_tropospheric_column_histogram_axis', 'METADATA_QA_STATISTICS_nitrogendioxide_tropospheric_column_pdf_axis', 'METADATA_QA_STATISTICS_vertices', 'PRODUCT_corner', 'PRODUCT_ground_pixel', 'PRODUCT_intensity_offset_polynomial_exponents', 'PRODUCT_layer', 'PRODUCT_polynomial_exponents', 'PRODUCT_vertices', 'PRODUCT_SUPPORT_DATA_GEOLOCATIONS_satellite_latitude', 'PRODUCT_SUPPORT_DATA_GEOLOCATIONS_satellite_longitude'>\n"
     ]
    }
   ],
   "source": [
    "print(dataset)"
   ]
  },
  {
   "cell_type": "code",
   "execution_count": 10,
   "id": "953a68e1",
   "metadata": {},
   "outputs": [
    {
     "name": "stdout",
     "output_type": "stream",
     "text": [
      "<BaseType with data array([[ 130.71007  ,  131.39806  ,  132.08414  , ..., -118.54888  ,\n",
      "        -118.45852  , -118.36752  ],\n",
      "       [ 130.94116  ,  131.62657  ,  132.30998  , ..., -118.67953  ,\n",
      "        -118.58876  , -118.49735  ],\n",
      "       [ 131.16917  ,  131.85202  ,  132.53275  , ..., -118.810074 ,\n",
      "        -118.71891  , -118.6271   ],\n",
      "       ...,\n",
      "       [   4.2831693,    4.160697 ,    4.0397243, ...,  -36.141068 ,\n",
      "         -36.292545 ,  -36.44615  ],\n",
      "       [   4.239493 ,    4.117096 ,    3.996199 , ...,  -36.140213 ,\n",
      "         -36.291477 ,  -36.44487  ],\n",
      "       [   4.1962004,    4.0738754,    3.9530497, ...,  -36.13903  ,\n",
      "         -36.290085 ,  -36.443256 ]], dtype=float32)>\n"
     ]
    }
   ],
   "source": [
    "lons = dataset['PRODUCT_longitude'][:][0,:,:]\n",
    "print(lons)"
   ]
  },
  {
   "cell_type": "code",
   "execution_count": 11,
   "id": "066c9b97",
   "metadata": {},
   "outputs": [
    {
     "name": "stdout",
     "output_type": "stream",
     "text": [
      "(4173, 450)\n"
     ]
    }
   ],
   "source": [
    "print (lons.shape)"
   ]
  },
  {
   "cell_type": "code",
   "execution_count": 12,
   "id": "47f946f8",
   "metadata": {},
   "outputs": [
    {
     "name": "stdout",
     "output_type": "stream",
     "text": [
      "(4173, 450)\n"
     ]
    }
   ],
   "source": [
    "lats = dataset['PRODUCT_latitude'][:][0,:,:]\n",
    "\n",
    "print (lats.shape)"
   ]
  },
  {
   "cell_type": "code",
   "execution_count": 13,
   "id": "622f84bd",
   "metadata": {},
   "outputs": [
    {
     "name": "stdout",
     "output_type": "stream",
     "text": [
      "<BaseType with data array([[-83.33121 , -83.37002 , -83.40734 , ..., -68.291725, -68.21434 ,\n",
      "        -68.13583 ],\n",
      "       [-83.29255 , -83.33102 , -83.368004, ..., -68.27851 , -68.201195,\n",
      "        -68.122765],\n",
      "       [-83.253746, -83.29188 , -83.32854 , ..., -68.26522 , -68.18799 ,\n",
      "        -68.109634],\n",
      "       ...,\n",
      "       [ 50.908653,  50.944332,  50.979397, ...,  58.105556,  58.11687 ,\n",
      "         58.12816 ],\n",
      "       [ 50.866573,  50.9022  ,  50.937214, ...,  58.057613,  58.06895 ,\n",
      "         58.080265],\n",
      "       [ 50.82438 ,  50.85995 ,  50.894917, ...,  58.009636,  58.021   ,\n",
      "         58.032333]], dtype=float32)>\n"
     ]
    }
   ],
   "source": [
    "print(lats)"
   ]
  },
  {
   "cell_type": "code",
   "execution_count": 14,
   "id": "feafccb1",
   "metadata": {},
   "outputs": [
    {
     "name": "stdout",
     "output_type": "stream",
     "text": [
      "<BaseType with data array([[9.96921e+36, 9.96921e+36, 9.96921e+36, ..., 9.96921e+36,\n",
      "        9.96921e+36, 9.96921e+36],\n",
      "       [9.96921e+36, 9.96921e+36, 9.96921e+36, ..., 9.96921e+36,\n",
      "        9.96921e+36, 9.96921e+36],\n",
      "       [9.96921e+36, 9.96921e+36, 9.96921e+36, ..., 9.96921e+36,\n",
      "        9.96921e+36, 9.96921e+36],\n",
      "       ...,\n",
      "       [9.96921e+36, 9.96921e+36, 9.96921e+36, ..., 9.96921e+36,\n",
      "        9.96921e+36, 9.96921e+36],\n",
      "       [9.96921e+36, 9.96921e+36, 9.96921e+36, ..., 9.96921e+36,\n",
      "        9.96921e+36, 9.96921e+36],\n",
      "       [9.96921e+36, 9.96921e+36, 9.96921e+36, ..., 9.96921e+36,\n",
      "        9.96921e+36, 9.96921e+36]], dtype=float32)>\n"
     ]
    }
   ],
   "source": [
    "no2 = dataset['PRODUCT_nitrogendioxide_tropospheric_column_precision'][:][0,:,:]\n",
    "\n",
    "print(no2)"
   ]
  },
  {
   "cell_type": "code",
   "execution_count": 15,
   "id": "a6bb3445",
   "metadata": {},
   "outputs": [
    {
     "name": "stdout",
     "output_type": "stream",
     "text": [
      "(4173, 450)\n"
     ]
    }
   ],
   "source": [
    "print (no2.shape)"
   ]
  },
  {
   "cell_type": "markdown",
   "id": "57f31245",
   "metadata": {},
   "source": [
    "***THE CODE ENDs***"
   ]
  },
  {
   "cell_type": "markdown",
   "id": "47f79768",
   "metadata": {},
   "source": [
    "."
   ]
  },
  {
   "cell_type": "markdown",
   "id": "903c176a",
   "metadata": {},
   "source": [
    "**Issues yet to be addressed:**\n",
    "1) Not able to access the mutliple files in a loop.\n",
    "\n",
    "\n",
    "2) OPeNDAP data can also be accessed using xarry but as of now its not working ,please refer the code below\n",
    "\n",
    "{###Example code\n",
    "#from netCDF4 import Dataset\n",
    "#dataset = #xr.open_dataset('https://tropomi.gesdisc.eosdis.nasa.gov/opendap/hyrax/S5P_TROPOMI_Level2/S5P_L2__NO2____HiR.1/2019/219/S5P_OFFL_L2__NO2____20190807T020100_20190807T034230_09402_01_010302_20190813T034351.nc')\n",
    "}\n",
    "\n",
    "For more information please check:-\n",
    "xarray.open_dataset: https://xarray.pydata.org/en/v0.13.0/generated/xarray.open_dataset.html\n",
    "Using OPeNDAP to access data remotely: MUR example: https://climate-cms.org/posts/2019-01-18-using-opendap.html"
   ]
  }
 ],
 "metadata": {
  "kernelspec": {
   "display_name": "GEODACenv",
   "language": "python",
   "name": "geodacenv"
  },
  "language_info": {
   "codemirror_mode": {
    "name": "ipython",
    "version": 3
   },
   "file_extension": ".py",
   "mimetype": "text/x-python",
   "name": "python",
   "nbconvert_exporter": "python",
   "pygments_lexer": "ipython3",
   "version": "3.10.4"
  }
 },
 "nbformat": 4,
 "nbformat_minor": 5
}
