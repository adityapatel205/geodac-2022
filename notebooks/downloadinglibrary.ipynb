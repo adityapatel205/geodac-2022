{
 "cells": [
  {
   "cell_type": "markdown",
   "metadata": {},
   "source": [
    "# Downloading the libraries we'll be using"
   ]
  },
  {
   "cell_type": "markdown",
   "metadata": {},
   "source": [
    "We'll use the following python libraries in our code:\n",
    "\n",
    "* NumPy \n",
    "* h5py\n",
    "* netCDF4\n",
    "* cartopy from matplotlib, also requires C++ libraries GEOS and proj (not using pip)\n",
    "* pyplot from matplotlib\n",
    "* pandas"
   ]
  },
  {
   "cell_type": "markdown",
   "metadata": {},
   "source": [
    "### Using pip in the command prompt:"
   ]
  },
  {
   "cell_type": "raw",
   "metadata": {},
   "source": [
    ">>> py -m pip install numpy\n",
    ">>> py -m pip install h5py\n",
    ">>> py -m pip install netCDF4\n",
    ">>> py -m pip install pyplot\n",
    ">>> py -m pip install pandas\n",
    "\n",
    "or\n",
    "\n",
    ">>> pip install numpy\n",
    ">>> pip install h5py\n",
    ">>> pip install netCDF4\n",
    ">>> pip install pyplot\n",
    ">>> pip install pandas"
   ]
  },
  {
   "cell_type": "markdown",
   "metadata": {},
   "source": [
    "### OR, if you have these installed:"
   ]
  },
  {
   "cell_type": "raw",
   "metadata": {},
   "source": [
    ">>> py -m pip install --upgrade SpecificPackage"
   ]
  },
  {
   "cell_type": "markdown",
   "metadata": {},
   "source": [
    "### Using conda, in the terminal or anaconda prompt:"
   ]
  },
  {
   "cell_type": "raw",
   "metadata": {},
   "source": [
    ">>> conda install numpy\n",
    ">>> conda install h5py\n",
    ">>> conda install netCDF4\n",
    ">>> conda install pyplot\n",
    ">>> conda install pandas\n",
    "\n",
    ">>> conda install GEOS\n",
    ">>> conda install proj\n",
    ">>> conda install cartopy"
   ]
  },
  {
   "cell_type": "markdown",
   "metadata": {},
   "source": [
    "#### Optional test:"
   ]
  },
  {
   "cell_type": "raw",
   "metadata": {},
   "source": [
    ">>> import h5py\n",
    ">>> h5py.run_tests()"
   ]
  }
 ],
 "metadata": {
  "kernelspec": {
   "display_name": "Python 3 (ipykernel)",
   "language": "python",
   "name": "python3"
  },
  "language_info": {
   "codemirror_mode": {
    "name": "ipython",
    "version": 3
   },
   "file_extension": ".py",
   "mimetype": "text/x-python",
   "name": "python",
   "nbconvert_exporter": "python",
   "pygments_lexer": "ipython3",
   "version": "3.10.1"
  }
 },
 "nbformat": 4,
 "nbformat_minor": 4
}
