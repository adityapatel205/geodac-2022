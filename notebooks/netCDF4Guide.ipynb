{
 "cells": [
  {
   "cell_type": "markdown",
   "metadata": {},
   "source": [
    "# netCDF4\n",
    "\n",
    "* Opening and creating netCDF\n",
    "* Groups\n",
    "* Variables\n",
    "* Writing and retrieving data\n",
    "* Attributes\n",
    "* Dimensions\n",
    "* Multi-file datasets\n",
    "* Variable length datasets\n",
    "* Strings\n",
    "* Time coordinates\n",
    "\n",
    "\n",
    "## Opening and creating netCDF\n",
    "To create a netCDF file from Python, you call the `Dataset` constructor. This is also the method used to open an existing netCDF file. If the file is open for write access (`mode=w`, `r+` or `a`), you may write any type of data including new dimensions, groups, variables and attributes.\n",
    "\n",
    "When creating a new file, the format may be specified using the format keyword in the `Dataset` constructor. The default format is NETCDF4. To see how a given file is formatted, you can examine the `data_model` attribute. Closing the netCDF file is accomplished via the `Dataset.close` method of the `Dataset` instance."
   ]
  },
  {
   "cell_type": "code",
   "execution_count": 1,
   "metadata": {},
   "outputs": [
    {
     "name": "stdout",
     "output_type": "stream",
     "text": [
      "NETCDF4\n"
     ]
    }
   ],
   "source": [
    "from netCDF4 import Dataset\n",
    "\n",
    "rootgrp = Dataset(\"test.nc\", \"w\", format=\"NETCDF4\")\n",
    "print(rootgrp.data_model)\n",
    "\n",
    "rootgrp.close()"
   ]
  },
  {
   "cell_type": "markdown",
   "metadata": {},
   "source": [
    "## Groups\n",
    "To create Group instances, use the `Dataset.createGroup` method of a `Dataset` or `Group` instance.`Dataset.createGroup` takes a single argument, a Python string containing the name of the new group. The new `Group` instances contained within the root group can be accessed by name using the groups dictionary attribute of the `Dataset` instance. \n",
    "\n",
    "To simplify the creation of nested groups, you can use a unix-like path as an argument to `Dataset.createGroup`. "
   ]
  },
  {
   "cell_type": "code",
   "execution_count": 2,
   "metadata": {},
   "outputs": [
    {
     "name": "stdout",
     "output_type": "stream",
     "text": [
      "{'forecasts': <class 'netCDF4._netCDF4.Group'>\n",
      "group /forecasts:\n",
      "    dimensions(sizes): \n",
      "    variables(dimensions): \n",
      "    groups: , 'analyses': <class 'netCDF4._netCDF4.Group'>\n",
      "group /analyses:\n",
      "    dimensions(sizes): \n",
      "    variables(dimensions): \n",
      "    groups: }\n",
      "\n",
      " {'model1': <class 'netCDF4._netCDF4.Group'>\n",
      "group /forecasts/model1:\n",
      "    dimensions(sizes): \n",
      "    variables(dimensions): \n",
      "    groups: , 'model2': <class 'netCDF4._netCDF4.Group'>\n",
      "group /forecasts/model2:\n",
      "    dimensions(sizes): \n",
      "    variables(dimensions): \n",
      "    groups: }\n"
     ]
    }
   ],
   "source": [
    "rootgrp = Dataset(\"test.nc\", \"w\")\n",
    "fcstgrp = rootgrp.createGroup(\"forecasts\")\n",
    "analgrp = rootgrp.createGroup(\"analyses\")\n",
    "print(rootgrp.groups)\n",
    "\n",
    "fcstgrp1 = rootgrp.createGroup(\"/forecasts/model1\")\n",
    "fcstgrp2 = rootgrp.createGroup(\"/forecasts/model2\")\n",
    "\n",
    "print(\"\\n\", fcstgrp.groups)"
   ]
  },
  {
   "cell_type": "markdown",
   "metadata": {},
   "source": [
    "Here's an example that shows how to navigate all the groups in a `Dataset`. The function `walktree` is a Python generator that is used to walk the directory tree. Note that printing the `Dataset` or `Group` object yields summary information about its contents."
   ]
  },
  {
   "cell_type": "code",
   "execution_count": 3,
   "metadata": {},
   "outputs": [
    {
     "name": "stdout",
     "output_type": "stream",
     "text": [
      "\n",
      " <class 'netCDF4._netCDF4.Dataset'>\n",
      "root group (NETCDF4 data model, file format HDF5):\n",
      "    dimensions(sizes): \n",
      "    variables(dimensions): \n",
      "    groups: forecasts, analyses \n",
      "\n",
      "<class 'netCDF4._netCDF4.Group'>\n",
      "group /forecasts:\n",
      "    dimensions(sizes): \n",
      "    variables(dimensions): \n",
      "    groups: model1, model2\n",
      "<class 'netCDF4._netCDF4.Group'>\n",
      "group /analyses:\n",
      "    dimensions(sizes): \n",
      "    variables(dimensions): \n",
      "    groups: \n",
      "<class 'netCDF4._netCDF4.Group'>\n",
      "group /forecasts/model1:\n",
      "    dimensions(sizes): \n",
      "    variables(dimensions): \n",
      "    groups: \n",
      "<class 'netCDF4._netCDF4.Group'>\n",
      "group /forecasts/model2:\n",
      "    dimensions(sizes): \n",
      "    variables(dimensions): \n",
      "    groups: \n"
     ]
    }
   ],
   "source": [
    "def walktree(top):\n",
    "    yield top.groups.values()\n",
    "    for value in top.groups.values():\n",
    "        yield from walktree(value)\n",
    "\n",
    "print('\\n', rootgrp, '\\n')\n",
    "\n",
    "for children in walktree(rootgrp):\n",
    "    for child in children:\n",
    "        print(child)"
   ]
  },
  {
   "cell_type": "raw",
   "metadata": {},
   "source": [
    "The code above should print:\n",
    "\n",
    "<class 'netCDF4._netCDF4.Dataset'>\n",
    "root group (NETCDF4 data model, file format HDF5):\n",
    "    dimensions(sizes): \n",
    "    variables(dimensions): \n",
    "    groups: forecasts, analyses\n",
    "\n",
    "<class 'netCDF4._netCDF4.Group'>\n",
    "group /forecasts:\n",
    "    dimensions(sizes): \n",
    "    variables(dimensions): \n",
    "    groups: model1, model2\n",
    "<class 'netCDF4._netCDF4.Group'>\n",
    "group /analyses:\n",
    "    dimensions(sizes): \n",
    "    variables(dimensions): \n",
    "    groups: \n",
    "<class 'netCDF4._netCDF4.Group'>\n",
    "group /forecasts/model1:\n",
    "    dimensions(sizes): \n",
    "    variables(dimensions): \n",
    "    groups: \n",
    "<class 'netCDF4._netCDF4.Group'>\n",
    "group /forecasts/model2:\n",
    "    dimensions(sizes): \n",
    "    variables(dimensions): \n",
    "    groups:"
   ]
  },
  {
   "cell_type": "markdown",
   "metadata": {},
   "source": [
    "## Variables\n",
    "To create a netCDF variable, use the `Dataset.createVariable` method of a `Dataset` or `Group` instance. The `Dataset.createVariable` method has two mandatory arguments, the variable name (a Python string), and the variable datatype. The variable's dimensions are given by a tuple containing the dimension names (defined previously with `Dataset.createDimension`). To create a scalar variable, simply leave out the dimensions keyword.\n",
    "\n",
    "Valid datatype specifiers include: \n",
    "- `f4` (32-bit floating point), \n",
    "- `f8` (64-bit floating point), \n",
    "- `i4` (32-bit signed integer), \n",
    "- `i2` (16-bit signed integer), \n",
    "- `i8` (64-bit signed integer), \n",
    "- `i1` (8-bit signed integer), \n",
    "- `u1` (8-bit unsigned integer), \n",
    "- `u2` (16-bit unsigned integer), \n",
    "- `u4` (32-bit unsigned integer), \n",
    "- `u8` (64-bit unsigned integer), \n",
    "- or `S1` (single-character string). "
   ]
  },
  {
   "cell_type": "code",
   "execution_count": 4,
   "metadata": {},
   "outputs": [],
   "source": [
    "# we have to first make dimensions to create variables (more on this later)\n",
    "level = rootgrp.createDimension(\"level\", None)\n",
    "time = rootgrp.createDimension(\"time\", None)\n",
    "lat = rootgrp.createDimension(\"lat\", 73)\n",
    "lon = rootgrp.createDimension(\"lon\", 144)\n",
    "\n",
    "# one dimensional data\n",
    "times = rootgrp.createVariable(\"time\",\"f8\",(\"time\",))\n",
    "levels = rootgrp.createVariable(\"level\",\"i4\",(\"level\",))\n",
    "latitudes = rootgrp.createVariable(\"lat\",\"f4\",(\"lat\",))\n",
    "longitudes = rootgrp.createVariable(\"lon\",\"f4\",(\"lon\",))\n",
    "\n",
    "# two dimensions unlimited\n",
    "temp = rootgrp.createVariable(\"temp\",\"f4\",(\"time\",\"level\",\"lat\",\"lon\",))\n",
    "temp.units = \"K\""
   ]
  },
  {
   "cell_type": "markdown",
   "metadata": {},
   "source": [
    "Summary info on a variable instance:"
   ]
  },
  {
   "cell_type": "code",
   "execution_count": 5,
   "metadata": {},
   "outputs": [
    {
     "name": "stdout",
     "output_type": "stream",
     "text": [
      "<class 'netCDF4._netCDF4.Variable'>\n",
      "float32 temp(time, level, lat, lon)\n",
      "    units: K\n",
      "unlimited dimensions: time, level\n",
      "current shape = (0, 0, 73, 144)\n",
      "filling on, default _FillValue of 9.969209968386869e+36 used\n"
     ]
    }
   ],
   "source": [
    "print(temp)"
   ]
  },
  {
   "cell_type": "markdown",
   "metadata": {},
   "source": [
    "Using a path to create a variable within a hierarchy of groups (intermediate groups will be made):"
   ]
  },
  {
   "cell_type": "code",
   "execution_count": 6,
   "metadata": {},
   "outputs": [],
   "source": [
    "ftemp = rootgrp.createVariable(\"/forecasts/model1/temp\",\"f4\",(\"time\",\"level\",\"lat\",\"lon\",)) "
   ]
  },
  {
   "cell_type": "markdown",
   "metadata": {},
   "source": [
    "Querying a dataset or group instance:"
   ]
  },
  {
   "cell_type": "code",
   "execution_count": 7,
   "metadata": {},
   "outputs": [
    {
     "name": "stdout",
     "output_type": "stream",
     "text": [
      "<class 'netCDF4._netCDF4.Group'>\n",
      "group /forecasts/model1:\n",
      "    dimensions(sizes): \n",
      "    variables(dimensions): float32 temp(time, level, lat, lon)\n",
      "    groups: \n",
      "<class 'netCDF4._netCDF4.Variable'>\n",
      "float32 temp(time, level, lat, lon)\n",
      "path = /forecasts/model1\n",
      "unlimited dimensions: time, level\n",
      "current shape = (0, 0, 73, 144)\n",
      "filling on, default _FillValue of 9.969209968386869e+36 used\n"
     ]
    }
   ],
   "source": [
    "print(rootgrp[\"/forecasts/model1\"])  # a Group instance\n",
    "\n",
    "print(rootgrp[\"/forecasts/model1/temp\"])  # a Variable instance"
   ]
  },
  {
   "cell_type": "markdown",
   "metadata": {},
   "source": [
    "The variables in the `Dataset` or `Group` are stored in a Python dictionary:"
   ]
  },
  {
   "cell_type": "code",
   "execution_count": 8,
   "metadata": {},
   "outputs": [
    {
     "name": "stdout",
     "output_type": "stream",
     "text": [
      "{'time': <class 'netCDF4._netCDF4.Variable'>\n",
      "float64 time(time)\n",
      "unlimited dimensions: time\n",
      "current shape = (0,)\n",
      "filling on, default _FillValue of 9.969209968386869e+36 used, 'level': <class 'netCDF4._netCDF4.Variable'>\n",
      "int32 level(level)\n",
      "unlimited dimensions: level\n",
      "current shape = (0,)\n",
      "filling on, default _FillValue of -2147483647 used, 'lat': <class 'netCDF4._netCDF4.Variable'>\n",
      "float32 lat(lat)\n",
      "unlimited dimensions: \n",
      "current shape = (73,)\n",
      "filling on, default _FillValue of 9.969209968386869e+36 used, 'lon': <class 'netCDF4._netCDF4.Variable'>\n",
      "float32 lon(lon)\n",
      "unlimited dimensions: \n",
      "current shape = (144,)\n",
      "filling on, default _FillValue of 9.969209968386869e+36 used, 'temp': <class 'netCDF4._netCDF4.Variable'>\n",
      "float32 temp(time, level, lat, lon)\n",
      "    units: K\n",
      "unlimited dimensions: time, level\n",
      "current shape = (0, 0, 73, 144)\n",
      "filling on, default _FillValue of 9.969209968386869e+36 used}\n"
     ]
    }
   ],
   "source": [
    "print(rootgrp.variables)"
   ]
  },
  {
   "cell_type": "markdown",
   "metadata": {},
   "source": [
    "## Writing and retrieving data\n",
    "Simple data assignment:"
   ]
  },
  {
   "cell_type": "code",
   "execution_count": 9,
   "metadata": {},
   "outputs": [
    {
     "name": "stdout",
     "output_type": "stream",
     "text": [
      "latitudes =\n",
      "[-90.  -87.5 -85.  -82.5 -80.  -77.5 -75.  -72.5 -70.  -67.5 -65.  -62.5\n",
      " -60.  -57.5 -55.  -52.5 -50.  -47.5 -45.  -42.5 -40.  -37.5 -35.  -32.5\n",
      " -30.  -27.5 -25.  -22.5 -20.  -17.5 -15.  -12.5 -10.   -7.5  -5.   -2.5\n",
      "   0.    2.5   5.    7.5  10.   12.5  15.   17.5  20.   22.5  25.   27.5\n",
      "  30.   32.5  35.   37.5  40.   42.5  45.   47.5  50.   52.5  55.   57.5\n",
      "  60.   62.5  65.   67.5  70.   72.5  75.   77.5  80.   82.5  85.   87.5\n",
      "  90. ]\n"
     ]
    }
   ],
   "source": [
    "import numpy as np\n",
    "\n",
    "lats =  np.arange(-90,91,2.5)\n",
    "lons =  np.arange(-180,180,2.5)\n",
    "latitudes[:] = lats\n",
    "longitudes[:] = lons\n",
    "print(\"latitudes =\\n{}\".format(latitudes[:]))"
   ]
  },
  {
   "cell_type": "markdown",
   "metadata": {},
   "source": [
    "Unlike NumPy's array objects, netCDF Variable objects with unlimited dimensions will grow along those dimensions if you assign data outside the currently defined range of indices.\n",
    "Note that the size of the levels variable grows when data is appended along the level dimension of the variable temp, even though no data has yet been assigned to levels.\n"
   ]
  },
  {
   "cell_type": "code",
   "execution_count": 10,
   "metadata": {},
   "outputs": [
    {
     "name": "stdout",
     "output_type": "stream",
     "text": [
      "temp shape before adding data = (0, 0, 73, 144)\n",
      "temp shape after adding data = (5, 10, 73, 144)\n",
      "levels shape after adding pressure data = (10,)\n"
     ]
    }
   ],
   "source": [
    "# append along two unlimited dimensions by assigning to slice.\n",
    "nlats = len(rootgrp.dimensions[\"lat\"])\n",
    "nlons = len(rootgrp.dimensions[\"lon\"])\n",
    "print(\"temp shape before adding data = {}\".format(temp.shape))\n",
    "\n",
    "from numpy.random import uniform\n",
    "temp[0:5, 0:10, :, :] = uniform(size=(5, 10, nlats, nlons))\n",
    "print(\"temp shape after adding data = {}\".format(temp.shape))\n",
    "\n",
    "# levels have grown, but no values yet assigned.\n",
    "print(\"levels shape after adding pressure data = {}\".format(levels.shape))\n",
    "\n",
    "# now, assign data to levels dimension variable.\n",
    "levels[:] =  [1000.,850.,700.,500.,300.,250.,200.,150.,100.,50.]"
   ]
  },
  {
   "cell_type": "markdown",
   "metadata": {},
   "source": [
    "## Attributes\n",
    "There are two types of attributes in a netCDF file, global and variable. Global attributes provide information about a group, or the entire dataset, as a whole. Variable attributes provide information about one of the variables in a group. Global attributes are set by assigning values to `Dataset` or `Group` instance variables. Variable attributes are set by assigning values to `Variable` instances variables. Attributes can be strings, numbers or sequences. Returning to our example,"
   ]
  },
  {
   "cell_type": "code",
   "execution_count": 11,
   "metadata": {},
   "outputs": [],
   "source": [
    "import time\n",
    "rootgrp.description = \"an example script\"\n",
    "rootgrp.history = \"Created \" + time.ctime(time.time())\n",
    "rootgrp.source = \"netCDF4 python module tutorial\"\n",
    "latitudes.units = \"degrees north\"\n",
    "longitudes.units = \"degrees east\"\n",
    "levels.units = \"hPa\"\n",
    "temp.units = \"K\"\n",
    "times.units = \"hours since 0001-01-01 00:00:00.0\"\n",
    "times.calendar = \"gregorian\""
   ]
  },
  {
   "cell_type": "markdown",
   "metadata": {},
   "source": [
    "The `Dataset.ncattrs` method of a `Dataset`, `Group` or `Variable` instance can be used to retrieve the names of all the netCDF attributes. This method is provided as a convenience, since using the built-in dir Python function will return a bunch of private methods and attributes that cannot (or should not) be modified by the user."
   ]
  },
  {
   "cell_type": "code",
   "execution_count": 12,
   "metadata": {},
   "outputs": [
    {
     "name": "stdout",
     "output_type": "stream",
     "text": [
      "Global attr description = an example script\n",
      "Global attr history = Created Tue Oct 11 15:37:08 2022\n",
      "Global attr source = netCDF4 python module tutorial\n"
     ]
    }
   ],
   "source": [
    "for name in rootgrp.ncattrs():\n",
    "    print(\"Global attr {} = {}\".format(name, getattr(rootgrp, name)))"
   ]
  },
  {
   "cell_type": "markdown",
   "metadata": {},
   "source": [
    "The `__dict__` attribute of a `Dataset`, `Group` or `Variable` instance provides all the netCDF attribute name/value pairs in a Python dictionary:"
   ]
  },
  {
   "cell_type": "code",
   "execution_count": 13,
   "metadata": {},
   "outputs": [
    {
     "name": "stdout",
     "output_type": "stream",
     "text": [
      "{'description': 'an example script', 'history': 'Created Tue Oct 11 15:37:08 2022', 'source': 'netCDF4 python module tutorial'}\n"
     ]
    }
   ],
   "source": [
    "print(rootgrp.__dict__)"
   ]
  },
  {
   "cell_type": "markdown",
   "metadata": {},
   "source": [
    "Attributes can be deleted from a netCDF `Dataset`, `Group` or `Variable` using the Python del statement (i.e. del grp.foo removes the attribute foo the the group grp)."
   ]
  },
  {
   "cell_type": "markdown",
   "metadata": {},
   "source": [
    "## Dimensions\n",
    "A dimension is created using the `Dataset.createDimension` method of a `Dataset` or `Group` instance. We used this earlier as it has to be defined before creating a variable. "
   ]
  },
  {
   "cell_type": "raw",
   "metadata": {},
   "source": [
    "level = rootgrp.createDimension(\"level\", None)\n",
    "time = rootgrp.createDimension(\"time\", None)\n",
    "lat = rootgrp.createDimension(\"lat\", 73)\n",
    "lon = rootgrp.createDimension(\"lon\", 144)"
   ]
  },
  {
   "cell_type": "markdown",
   "metadata": {},
   "source": [
    "A Python string is used to set the name of the dimension, and an integer value is used to set the size. To create an unlimited dimension (a dimension that can be appended to), the size value is set to `None` or `0`. "
   ]
  },
  {
   "cell_type": "code",
   "execution_count": 14,
   "metadata": {},
   "outputs": [
    {
     "name": "stdout",
     "output_type": "stream",
     "text": [
      "{'level': <class 'netCDF4._netCDF4.Dimension'> (unlimited): name = 'level', size = 10, 'time': <class 'netCDF4._netCDF4.Dimension'> (unlimited): name = 'time', size = 5, 'lat': <class 'netCDF4._netCDF4.Dimension'>: name = 'lat', size = 73, 'lon': <class 'netCDF4._netCDF4.Dimension'>: name = 'lon', size = 144}\n",
      "<class 'netCDF4._netCDF4.Dimension'> (unlimited): name = 'level', size = 10\n",
      "<class 'netCDF4._netCDF4.Dimension'> (unlimited): name = 'time', size = 5\n",
      "<class 'netCDF4._netCDF4.Dimension'>: name = 'lat', size = 73\n",
      "<class 'netCDF4._netCDF4.Dimension'>: name = 'lon', size = 144\n"
     ]
    }
   ],
   "source": [
    "print(rootgrp.dimensions)\n",
    "\n",
    "for dimobj in rootgrp.dimensions.values():\n",
    "    print(dimobj)\n",
    "    \n",
    "rootgrp.close()"
   ]
  },
  {
   "cell_type": "raw",
   "metadata": {},
   "source": [
    ">>> len(lon)\n",
    "144\n",
    ">>> lon.isunlimited()\n",
    "False\n",
    ">>> time.isunlimited()\n",
    "True"
   ]
  },
  {
   "cell_type": "markdown",
   "metadata": {},
   "source": [
    "## Multi-file datasets\n",
    "You can use the `MFDataset` class to read the data as if it were contained in a single file. Instead of using a single filename to create a `Dataset` instance, create a `MFDataset` instance with either a list of filenames, or a string with a wildcard (which is then converted to a sorted list of files using the Python glob module). Variables in the list of files that share the same unlimited dimension are aggregated together, and can be sliced across multiple files. "
   ]
  },
  {
   "cell_type": "code",
   "execution_count": 15,
   "metadata": {},
   "outputs": [
    {
     "name": "stdout",
     "output_type": "stream",
     "text": [
      "[ 0  1  2  3  4  5  6  7  8  9 10 11 12 13 14 15 16 17 18 19 20 21 22 23\n",
      " 24 25 26 27 28 29 30 31 32 33 34 35 36 37 38 39 40 41 42 43 44 45 46 47\n",
      " 48 49 50 51 52 53 54 55 56 57 58 59 60 61 62 63 64 65 66 67 68 69 70 71\n",
      " 72 73 74 75 76 77 78 79 80 81 82 83 84 85 86 87 88 89 90 91 92 93 94 95\n",
      " 96 97 98 99]\n"
     ]
    }
   ],
   "source": [
    "for nf in range(10):\n",
    "    with Dataset(\"mftest%s.nc\" % nf, \"w\", format=\"NETCDF4_CLASSIC\") as f:\n",
    "        _ = f.createDimension(\"x\",None)\n",
    "        x = f.createVariable(\"x\",\"i\",(\"x\",))\n",
    "        x[0:10] = np.arange(nf*10,10*(nf+1))\n",
    "\n",
    "# Now read all the files back in at once with MFDataset\n",
    "\n",
    "from netCDF4 import MFDataset\n",
    "f = MFDataset(\"mftest*nc\")\n",
    "print(f.variables[\"x\"][:])\n",
    "\n",
    "#[ 0  1  2  3  4  5  6  7  8  9 10 11 12 13 14 15 16 17 18 19 20 21 22 23\n",
    "# 24 25 26 27 28 29 30 31 32 33 34 35 36 37 38 39 40 41 42 43 44 45 46 47\n",
    "# 48 49 50 51 52 53 54 55 56 57 58 59 60 61 62 63 64 65 66 67 68 69 70 71\n",
    "# 72 73 74 75 76 77 78 79 80 81 82 83 84 85 86 87 88 89 90 91 92 93 94 95\n",
    "# 96 97 98 99]\n",
    "\n",
    "# Note that MFDataset can only be used to read, not write, multi-file datasets."
   ]
  },
  {
   "cell_type": "markdown",
   "metadata": {},
   "source": [
    "#### `MFDataset(files, check=False, aggdim=None, exclude=\\[], master_file=None)`\n",
    "\n",
    "`__init__(self, files, check=False, aggdim=None, exclude=\\[], master_file=None)`\n",
    "\n",
    "Open a Dataset spanning multiple files, making it look as if it was a single file. Variables in the list of files that share the same dimension (specified with the keyword `aggdim`) are aggregated. If `aggdim` is not specified, the unlimited is aggregated. Currently, `aggdim` must be the leftmost (slowest varying) dimension of each of the variables to be aggregated.\n",
    "\n",
    "`files`: either a sequence of netCDF files or a string with a wildcard (converted to a sorted list of files using glob) If the `master_file` kwarg is not specified, the first file in the list will become the \"master\" file, defining all the variables with an aggregation dimension which may span subsequent files. Attribute access returns attributes only from \"master\" file. The files are always opened in read-only mode.\n",
    "\n",
    "`check`: True if you want to do consistency checking to ensure the correct variables structure for all of the netcdf files. Checking makes the initialization of the `MFDataset` instance much slower. Default is False.\n",
    "\n",
    "`aggdim`: The name of the dimension to aggregate over (must be the leftmost dimension of each of the variables to be aggregated). If None (default), aggregate over the unlimited dimension.\n",
    "\n",
    "`exclude`: A list of variable names to exclude from aggregation. Default is an empty list.\n",
    "\n",
    "`master_file`: file to use as \"master file\", defining all the variables with an aggregation dimension and all global attributes."
   ]
  },
  {
   "cell_type": "markdown",
   "metadata": {},
   "source": [
    "## Variable length Datasets\n",
    "NetCDF 4 has support for variable-length or \"ragged\" arrays. These are arrays of variable length sequences having the same type. To create a variable-length data type, use the `Dataset.createVLType` method of a `Dataset` or `Group` instance."
   ]
  },
  {
   "cell_type": "code",
   "execution_count": 16,
   "metadata": {},
   "outputs": [],
   "source": [
    "f = Dataset(\"tst_vlen.nc\",\"w\")\n",
    "vlen_t = f.createVLType(np.int32, \"phony_vlen\")"
   ]
  },
  {
   "cell_type": "markdown",
   "metadata": {},
   "source": [
    "The numpy datatype of the variable-length sequences and the name of the new datatype must be specified. Any of the primitive datatypes can be used (signed and unsigned integers, 32 and 64 bit floats, and characters), but compound data types cannot. A new variable can then be created using this datatype."
   ]
  },
  {
   "cell_type": "code",
   "execution_count": 17,
   "metadata": {},
   "outputs": [],
   "source": [
    "x = f.createDimension(\"x\",3)\n",
    "y = f.createDimension(\"y\",4)\n",
    "vlvar = f.createVariable(\"phony_vlen_var\", vlen_t, (\"y\",\"x\"))"
   ]
  },
  {
   "cell_type": "markdown",
   "metadata": {},
   "source": [
    "Since there is no native vlen datatype in NumPy, vlen arrays are represented in Python as object arrays (arrays of dtype object). These are arrays whose elements are Python object pointers, and can contain any type of python object. For this application, they must contain 1-D numpy arrays all of the same type but of varying length. In this case, they contain 1-D NumPy int32 arrays of random length between 1 and 10."
   ]
  },
  {
   "cell_type": "code",
   "execution_count": 18,
   "metadata": {},
   "outputs": [
    {
     "name": "stdout",
     "output_type": "stream",
     "text": [
      "vlen variable =\n",
      "[[array([1, 2, 3, 4, 5, 6, 7, 8], dtype=int32) array([1, 2], dtype=int32)\n",
      "  array([1, 2, 3, 4], dtype=int32)]\n",
      " [array([1, 2, 3], dtype=int32)\n",
      "  array([1, 2, 3, 4, 5, 6, 7, 8, 9], dtype=int32)\n",
      "  array([1, 2, 3, 4, 5, 6, 7, 8, 9], dtype=int32)]\n",
      " [array([1, 2, 3, 4, 5, 6, 7], dtype=int32) array([1, 2, 3], dtype=int32)\n",
      "  array([1, 2, 3, 4, 5, 6], dtype=int32)]\n",
      " [array([1, 2, 3, 4, 5, 6, 7, 8, 9], dtype=int32)\n",
      "  array([1, 2, 3, 4, 5], dtype=int32) array([1, 2], dtype=int32)]]\n",
      "\n",
      " <class 'netCDF4._netCDF4.Dataset'>\n",
      "root group (NETCDF4 data model, file format HDF5):\n",
      "    dimensions(sizes): x(3), y(4)\n",
      "    variables(dimensions): int32 phony_vlen_var(y, x)\n",
      "    groups: \n",
      "\n",
      " <class 'netCDF4._netCDF4.Variable'>\n",
      "vlen phony_vlen_var(y, x)\n",
      "vlen data type: int32\n",
      "unlimited dimensions: \n",
      "current shape = (4, 3)\n",
      "\n",
      " <class 'netCDF4._netCDF4.VLType'>: name = 'phony_vlen', numpy dtype = int32\n"
     ]
    }
   ],
   "source": [
    "import random\n",
    "random.seed(54321)\n",
    "data = np.empty(len(y)*len(x),object)\n",
    "for n in range(len(y)*len(x)):\n",
    "    data[n] = np.arange(random.randint(1,10),dtype=\"int32\")+1\n",
    "data = np.reshape(data,(len(y),len(x)))\n",
    "vlvar[:] = data\n",
    "print(\"vlen variable =\\n{}\".format(vlvar[:]))\n",
    "\n",
    "print('\\n', f)\n",
    "\n",
    "print('\\n', f.variables[\"phony_vlen_var\"])\n",
    "\n",
    "print('\\n', f.vltypes[\"phony_vlen\"])"
   ]
  },
  {
   "cell_type": "markdown",
   "metadata": {},
   "source": [
    "Numpy object arrays containing Python strings can also be written as vlen variables, For vlen strings, you don't need to create a vlen data type. Instead, simply use the Python str builtin (or a numpy string datatype with fixed length greater than 1) when calling the `Dataset.createVariable` method."
   ]
  },
  {
   "cell_type": "code",
   "execution_count": 19,
   "metadata": {},
   "outputs": [],
   "source": [
    "z = f.createDimension(\"z\",10)\n",
    "strvar = f.createVariable(\"strvar\", str, \"z\")"
   ]
  },
  {
   "cell_type": "markdown",
   "metadata": {},
   "source": [
    "In this example, an object array is filled with random Python strings with random lengths between 2 and 12 characters, and the data in the object array is assigned to the vlen string variable."
   ]
  },
  {
   "cell_type": "code",
   "execution_count": 20,
   "metadata": {},
   "outputs": [
    {
     "name": "stdout",
     "output_type": "stream",
     "text": [
      "variable-length string variable:\n",
      "['Lh' '25F8wBbMI' '53rmM' 'vvjnb3t63ao' 'qjRBQk6w' 'aJh' 'QF'\n",
      " 'jtIJbJACaQk4' '3Z5' 'bftIIq']\n",
      "\n",
      " <class 'netCDF4._netCDF4.Dataset'>\n",
      "root group (NETCDF4 data model, file format HDF5):\n",
      "    dimensions(sizes): x(3), y(4), z(10)\n",
      "    variables(dimensions): int32 phony_vlen_var(y, x), <class 'str'> strvar(z)\n",
      "    groups: \n",
      "<class 'netCDF4._netCDF4.Variable'>\n",
      "vlen strvar(z)\n",
      "vlen data type: <class 'str'>\n",
      "unlimited dimensions: \n",
      "current shape = (10,)\n"
     ]
    }
   ],
   "source": [
    "chars = \"1234567890aabcdefghijklmnopqrstuvwxyzABCDEFGHIJKLMNOPQRSTUVWXYZ\"\n",
    "data = np.empty(10,\"O\")\n",
    "for n in range(10):\n",
    "    stringlen = random.randint(2,12)\n",
    "    data[n] = \"\".join([random.choice(chars) for i in range(stringlen)])\n",
    "strvar[:] = data\n",
    "print(\"variable-length string variable:\\n{}\".format(strvar[:]))\n",
    "\n",
    "print('\\n', f)\n",
    "\n",
    "print(f.variables[\"strvar\"])"
   ]
  },
  {
   "cell_type": "markdown",
   "metadata": {},
   "source": [
    "It is also possible to set contents of vlen string variables with NumPy arrays of any string or unicode data type. Note, however, that accessing the contents of such variables will always return NumPy arrays with dtype object."
   ]
  },
  {
   "cell_type": "markdown",
   "metadata": {},
   "source": [
    "## Strings\n",
    "The most flexible way to store arrays of strings is with the Variable-length (vlen) string data type. However, this requires the use of the NETCDF4 data model, and the vlen type does not map very well as NumPy arrays (you have to use NumPy arrays of `dtype=object`, which are arrays of arbitrary Python objects). NumPy does have a fixed-width string array data type, but unfortunately the netCDF data model does not. Instead fixed-width byte strings are typically stored as arrays of 8-bit characters. To perform the conversion to and from character arrays to fixed-width NumPy string arrays, the following convention is followed by the Python interface. \n",
    "- If the `_Encoding` special attribute is set for a character array (dtype S1) variable, the chartostring utility function is used to convert the array of characters to an array of strings with one less dimension (the last dimension is interpreted as the length of each string) when reading the data. The character set (usually ascii) is specified by the `_Encoding` attribute. \n",
    "- If `_Encoding` is 'none' or 'bytes', then the character array is converted to a NumPy fixed-width byte string array (dtype S#), otherwise a NumPy unicode (dtype U#) array is created. When writing the data, stringtochar is used to convert the numpy string array to an array of characters with one more dimension. For example,"
   ]
  },
  {
   "cell_type": "code",
   "execution_count": 21,
   "metadata": {},
   "outputs": [
    {
     "name": "stdout",
     "output_type": "stream",
     "text": [
      "[[b'f' b'o' b'o']\n",
      " [b'b' b'a' b'r']]\n",
      "['foo' 'bar']\n"
     ]
    }
   ],
   "source": [
    "from netCDF4 import stringtochar\n",
    "nc = Dataset('stringtest.nc','w',format='NETCDF4_CLASSIC')\n",
    "_ = nc.createDimension('nchars',3)\n",
    "_ = nc.createDimension('nstrings',None)\n",
    "v = nc.createVariable('strings','S1',('nstrings','nchars'))\n",
    "datain = np.array(['foo','bar'],dtype='S3')\n",
    "v[:] = stringtochar(datain)           # manual conversion to char array\n",
    "print(v[:])                           # data returned as char array\n",
    "\n",
    "v._Encoding = 'ascii'                 # this enables automatic conversion\n",
    "v[:] = datain                         # conversion to char array done internally\n",
    "print(v[:])                           # data returned in numpy string array\n",
    "\n",
    "nc.close()"
   ]
  },
  {
   "cell_type": "markdown",
   "metadata": {},
   "source": [
    "Even if the `_Encoding` attribute is set, the automatic conversion of char arrays to/from string arrays can be disabled with `Variable.set_auto_chartostring`.\n",
    "\n",
    "A similar situation is often encountered with NumPy structured arrays with subdtypes containing fixed-wdith byte strings (dtype=S#). Since there is no native fixed-length string netCDF datatype, these NumPy structure arrays are mapped onto netCDF compound types with character array elements. In this case the string <-> char array conversion is handled automatically (without the need to set the `_Encoding` attribute) using NumPy views. The structured array dtype (including the string elements) can even be used to define the compound data type - the string dtype will be converted to character array dtype under the hood when creating the netcdf compound type. Here's an example:"
   ]
  },
  {
   "cell_type": "code",
   "execution_count": 22,
   "metadata": {},
   "outputs": [
    {
     "name": "stdout",
     "output_type": "stream",
     "text": [
      "\n",
      " {'names': ['observation', 'station_name'], 'formats': ['<f4', ('S1', (10,))], 'offsets': [0, 4], 'itemsize': 16, 'aligned': True}\n",
      "\n",
      " [(123.  , b'Boulder') (  3.14, b'New York')]\n",
      "\n",
      " {'names': ['observation', 'station_name'], 'formats': ['<f4', 'S10'], 'offsets': [0, 4], 'itemsize': 16, 'aligned': True}\n",
      "\n",
      " [(123.  , [b'B', b'o', b'u', b'l', b'd', b'e', b'r', b'', b'', b''])\n",
      " (  3.14, [b'N', b'e', b'w', b' ', b'Y', b'o', b'r', b'k', b'', b''])]\n"
     ]
    }
   ],
   "source": [
    "nc = Dataset('compoundstring_example.nc','w')\n",
    "dtype = np.dtype([('observation', 'f4'),\n",
    "                     ('station_name','S10')])\n",
    "station_data_t = nc.createCompoundType(dtype,'station_data')\n",
    "_ = nc.createDimension('station',None)\n",
    "statdat = nc.createVariable('station_obs', station_data_t, ('station',))\n",
    "data = np.empty(2,dtype)\n",
    "data['observation'][:] = (123.,3.14)\n",
    "data['station_name'][:] = ('Boulder','New York')\n",
    "print('\\n', statdat.dtype)                   # strings actually stored as character arrays\n",
    "\n",
    "statdat[:] = data                            # strings converted to character arrays internally\n",
    "print('\\n', statdat[:])                      # character arrays converted back to strings\n",
    "\n",
    "print('\\n', statdat[:].dtype)\n",
    "\n",
    "statdat.set_auto_chartostring(False)         # turn off auto-conversion\n",
    "statdat[:] = data.view(dtype=[('observation', 'f4'),('station_name','S1',10)])\n",
    "print('\\n', statdat[:])                      # now structured array with char array subtype is returned\n",
    "\n",
    "nc.close()"
   ]
  },
  {
   "cell_type": "markdown",
   "metadata": {},
   "source": [
    "Note that there is currently no support for mapping NumPy structured arrays with unicode elements (dtype U#) onto netCDF compound types, nor is there support for netCDF compound types with vlen string components."
   ]
  },
  {
   "cell_type": "markdown",
   "metadata": {},
   "source": [
    "## Time Coordinates\n",
    " The functions `num2date` and `date2num` are provided by `cftime` to convert values of time to and from calender dates. "
   ]
  },
  {
   "cell_type": "code",
   "execution_count": 23,
   "metadata": {},
   "outputs": [
    {
     "name": "stdout",
     "output_type": "stream",
     "text": [
      "time values (in units hours since 0001-01-01 00:00:00.0):\n",
      "[17533104. 17533116. 17533128. 17533140. 17533152.]\n",
      "dates corresponding to time values:\n",
      "[cftime.DatetimeGregorian(2001, 3, 1, 0, 0, 0, 0, has_year_zero=False)\n",
      " cftime.DatetimeGregorian(2001, 3, 1, 12, 0, 0, 0, has_year_zero=False)\n",
      " cftime.DatetimeGregorian(2001, 3, 2, 0, 0, 0, 0, has_year_zero=False)\n",
      " cftime.DatetimeGregorian(2001, 3, 2, 12, 0, 0, 0, has_year_zero=False)\n",
      " cftime.DatetimeGregorian(2001, 3, 3, 0, 0, 0, 0, has_year_zero=False)]\n"
     ]
    }
   ],
   "source": [
    "import netCDF4\n",
    "from netCDF4 import Dataset\n",
    "import numpy as np\n",
    "\n",
    "# Setting up a file\n",
    "rootgrp = Dataset(\"test.nc\", \"w\")\n",
    "fcstgrp = rootgrp.createGroup(\"forecasts\")\n",
    "analgrp = rootgrp.createGroup(\"analyses\")\n",
    "\n",
    "fcstgrp1 = rootgrp.createGroup(\"/forecasts/model1\")\n",
    "fcstgrp2 = rootgrp.createGroup(\"/forecasts/model2\")\n",
    "\n",
    "# we have to first make dimensions to create variables (more on this later)\n",
    "level = rootgrp.createDimension(\"level\", None)\n",
    "time = rootgrp.createDimension(\"time\", None)\n",
    "lat = rootgrp.createDimension(\"lat\", 73)\n",
    "lon = rootgrp.createDimension(\"lon\", 144)\n",
    "\n",
    "# one dimensional data\n",
    "times = rootgrp.createVariable(\"time\",\"f8\",(\"time\",))\n",
    "levels = rootgrp.createVariable(\"level\",\"i4\",(\"level\",))\n",
    "latitudes = rootgrp.createVariable(\"lat\",\"f4\",(\"lat\",))\n",
    "longitudes = rootgrp.createVariable(\"lon\",\"f4\",(\"lon\",))\n",
    "\n",
    "# two dimensions unlimited\n",
    "temp = rootgrp.createVariable(\"temp\",\"f4\",(\"time\",\"level\",\"lat\",\"lon\",))\n",
    "temp.units = \"K\"\n",
    "\n",
    "# creating attributes\n",
    "import time\n",
    "rootgrp.description = \"an example script\"\n",
    "rootgrp.history = \"Created \" + time.ctime(time.time())\n",
    "rootgrp.source = \"netCDF4 python module tutorial\"\n",
    "latitudes.units = \"degrees north\"\n",
    "longitudes.units = \"degrees east\"\n",
    "levels.units = \"hPa\"\n",
    "temp.units = \"K\"\n",
    "times.units = \"hours since 0001-01-01 00:00:00.0\"\n",
    "times.calendar = \"gregorian\"\n",
    "\n",
    "# Setting up values\n",
    "import numpy as np\n",
    "lats =  np.arange(-90,91,2.5)\n",
    "lons =  np.arange(-180,180,2.5)\n",
    "latitudes[:] = lats\n",
    "longitudes[:] = lons\n",
    "nlats = len(rootgrp.dimensions[\"lat\"])\n",
    "nlons = len(rootgrp.dimensions[\"lon\"])\n",
    "\n",
    "from numpy.random import uniform\n",
    "temp[0:5, 0:10, :, :] = uniform(size=(5, 10, nlats, nlons))\n",
    "levels[:] =  [1000.,850.,700.,500.,300.,250.,200.,150.,100.,50.]\n",
    "temp[0, 0, [0,1,2,3], [0,1,2,3]].shape\n",
    "tempdat = temp[::2, [1,3,6], lats>0, lons>0]\n",
    "\n",
    "# fill in times.\n",
    "from datetime import datetime, timedelta\n",
    "from cftime import num2date, date2num\n",
    "dates = [datetime(2001,3,1)+n*timedelta(hours=12) for n in range(temp.shape[0])]\n",
    "times[:] = date2num(dates,units=times.units,calendar=times.calendar)\n",
    "print(\"time values (in units {}):\\n{}\".format(times.units, times[:]))\n",
    "\n",
    "dates = num2date(times[:],units=times.units,calendar=times.calendar)\n",
    "print(\"dates corresponding to time values:\\n{}\".format(dates))"
   ]
  },
  {
   "cell_type": "markdown",
   "metadata": {},
   "source": [
    "`num2date` converts numeric values of time in the specified units and calendar to datetime objects, and `date2num` does the reverse. All the calendars currently defined in the CF metadata convention are supported. A function called `date2index` is also provided which returns the indices of a netCDF time variable corresponding to a sequence of datetime instances."
   ]
  },
  {
   "cell_type": "markdown",
   "metadata": {
    "jp-MarkdownHeadingCollapsed": true
   },
   "source": [
    "#### `date2num(dates, units, calendar=None, has_year_zero=None)`\n",
    "\n",
    "Return numeric time values given datetime objects. The units of the numeric time values are described by the units argument and the `calendar` keyword. The datetime objects must be in UTC with no time-zone offset. If there is a time-zone offset in units, it will be applied to the returned numeric values.\n",
    "\n",
    "`dates`: A datetime object or a sequence of datetime objects. The datetime objects should not include a time-zone offset. They can be either native Python datetime instances (which use the proleptic gregorian calendar) or `cftime.datetime` instances.\n",
    "\n",
    "`units`: a string of the form since describing the time units. can be days, hours, minutes, seconds, milliseconds or microseconds. is the time origin. months since is allowed only for the `360_day` calendar and `common_years` since is allowed only for the `365_day` calendar.\n",
    "\n",
    "`calendar`: describes the calendar to be used in the time calculations. All the values currently defined in the CF metadata convention <http://cfconventions.org/cf-conventions/cf-conventions#calendar>__ are supported. Valid calendars 'standard', 'gregorian', 'proleptic_gregorian' 'noleap', '365_day', '360_day', 'julian', 'all_leap', '366_day'. Default is `None` which means the calendar associated with the first input datetime instance will be used.\n",
    "\n",
    "`has_year_zero`: If set to True, astronomical year numbering is used and the year zero exists. If set to False for real-world calendars, then historical year numbering is used and the year 1 is preceded by year -1 and no year zero exists. The defaults are set to conform with CF version 1.9 conventions (False for 'julian', 'gregorian'/'standard', True for 'proleptic_gregorian' (ISO 8601) and True for the idealized calendars 'noleap'/'365_day', '360_day', 366_day'/'all_leap') Note that CF v1.9 does not specifically mention whether year zero is allowed in the proleptic_gregorian calendar, but ISO-8601 has a year zero so we have adopted this as the default. The defaults can only be over-ridden for the real-world calendars, for the idealized calendars the year zero always exists and the `has_year_zero` kwarg is ignored. This kwarg is not needed to define calendar systems allowed by CF (the calendar-specific defaults do this).\n",
    "\n",
    "returns a numeric time value, or an array of numeric time values with approximately 1 microsecond accuracy."
   ]
  },
  {
   "cell_type": "markdown",
   "metadata": {
    "jp-MarkdownHeadingCollapsed": true
   },
   "source": [
    "#### `num2date(times, units, calendar=u'standard', only_use_cftime_datetimes=True, only_use_python_datetimes=False, has_year_zero=None)`\n",
    "\n",
    "Return datetime objects given numeric time values. The units of the numeric time values are described by the units argument and the calendar keyword. The returned datetime objects represent UTC with no time-zone offset, even if the specified units contain a time-zone offset.\n",
    "\n",
    "`times`: numeric time values.\n",
    "\n",
    "`units`: a string of the form since describing the time units. can be days, hours, minutes, seconds, milliseconds or microseconds. is the time origin. months since is allowed only for the `360_day` calendar and `common_years` since is allowed only for the `365_day` calendar.\n",
    "\n",
    "`calendar`: describes the calendar used in the time calculations. All the values currently defined in the CF metadata convention <http://cfconventions.org/cf-conventions/cf-conventions#calendar>__ are supported. Valid calendars 'standard', 'gregorian', 'proleptic_gregorian' 'noleap', '365_day', '360_day', 'julian', 'all_leap', '366_day'. Default is 'standard', which is a mixed Julian/Gregorian calendar.\n",
    "\n",
    "`only_use_cftime_datetimes`: if False, Python `datetime.datetime` objects are returned from `num2date` where possible; if True dates which subclass `cftime.datetime` are returned for all calendars. Default True.\n",
    "\n",
    "`only_use_python_datetimes`: always return Python `datetime.datetime` objects and raise an error if this is not possible. Ignored unless `only_use_cftime_datetimes=False`. Default False.\n",
    "\n",
    "`has_year_zero`: if set to True, astronomical year numbering is used and the year zero exists. If set to False for real-world calendars, then historical year numbering is used and the year 1 is preceded by year -1 and no year zero exists. The defaults are set to conform with CF version 1.9 conventions (False for 'julian', 'gregorian'/'standard', True for 'proleptic_gregorian' (ISO 8601) and True for the idealized calendars 'noleap'/'365_day', '360_day', 366_day'/'all_leap') The defaults can only be over-ridden for the real-world calendars, for the the idealized calendars the year zero always exists and the `has_year_zero` kwarg is ignored. This kwarg is not needed to define calendar systems allowed by CF (the calendar-specific defaults do this).\n",
    "\n",
    "returns a datetime instance, or an array of datetime instances with microsecond accuracy, if possible.\n",
    "\n",
    "Note: If `only_use_cftime_datetimes=False` and `use_only_python_datetimes=False`, the datetime instances returned are 'real' Python datetime objects if `calendar='proleptic_gregorian'`, or `calendar='standard'` or 'gregorian' and the date is after the breakpoint between the Julian and Gregorian calendars (1582-10-15). Otherwise, they are `ctime.datetime` objects which support some but not all the methods of native Python datetime objects. The datetime instances do not contain a time-zone offset, even if the specified units contains one."
   ]
  },
  {
   "cell_type": "markdown",
   "metadata": {},
   "source": [
    "#### `MFTime(time, units=None, calendar=None)`\n",
    "`__init__(self, time, units=None, calendar=None)`\n",
    "\n",
    "Create a time Variable with units consistent across a multifile dataset.\n",
    "\n",
    "`time`: Time variable from a `MFDataset`.\n",
    "\n",
    "`units`: Time units, for example, 'days since 1979-01-01'. If `None`, use the units from the master variable.\n",
    "\n",
    "`calendar`: Calendar overload to use across all files, for example, 'standard' or 'gregorian'. If `None`, check that the calendar attribute is present on each variable and values are unique across files raising a `ValueError` otherwise."
   ]
  },
  {
   "cell_type": "markdown",
   "metadata": {},
   "source": [
    "## Review Questions\n",
    "\n",
    "Create a file. Create a hierarchy of groups and datasets with the following details:\n",
    "\n",
    "- These\n",
    "    - crazy\n",
    "        - dataset1 (1-100)\n",
    "    - weird\n",
    "- Many\n",
    "    - odd\n",
    "        - dataset2 (2D)\n",
    "    - wacky\n",
    "    - unusual\n",
    "        - varlendataset (a variable length dataset) \n",
    "\n",
    "Print dataset2 using iteration.\n",
    "\n",
    "Create a minimum of 2 attributes for each dataset."
   ]
  },
  {
   "cell_type": "code",
   "execution_count": null,
   "metadata": {},
   "outputs": [],
   "source": []
  }
 ],
 "metadata": {
  "kernelspec": {
   "display_name": "GEODACenv",
   "language": "python",
   "name": "geodacenv"
  },
  "language_info": {
   "codemirror_mode": {
    "name": "ipython",
    "version": 3
   },
   "file_extension": ".py",
   "mimetype": "text/x-python",
   "name": "python",
   "nbconvert_exporter": "python",
   "pygments_lexer": "ipython3",
   "version": "3.9.12"
  }
 },
 "nbformat": 4,
 "nbformat_minor": 4
}
