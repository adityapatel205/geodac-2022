{
 "cells": [
  {
   "cell_type": "markdown",
   "id": "b1d696c4",
   "metadata": {},
   "source": [
    "# Creating our virtual environment\n",
    "\n",
    "We need some specific Python and C++ libraries in order to manipulate the datasets being used in this project. We have found that the easiest way to facilitate a standard environment across platforms is to create a virtual environment with all of the necessary components. It is assumed that you have already installed the [Anaconda distribution of Python](https://www.anaconda.com/products/distribution). \n",
    "\n",
    "We'll be installing the following libraries and their dependencies:\n",
    "\n",
    "* numpy\n",
    "* matplotlib \n",
    "* h5py\n",
    "* netCDF4\n",
    "* Cartopy\n",
    "* pandas\n",
    "* ipykernel\n",
    "* data-downloader\n",
    "\n",
    "First, open up the command prompt where we'll be creating this virtual environment. On Windows, this means opening the Anaconda prompt. On Mac or Linux, you will use your regular command line terminal. \n",
    "\n",
    "For the easiest procedure, download the **environment.yml** file provided on the github. Place the environment.yml file in your current working directory. If you type `dir` on Windows or `ls` on Mac/Linux, you should see this file in the list that prints. \n",
    "\n",
    "Next, modify the last line of the **environment.yml** file to point to the directory on your system where the environment will be saved. On Windows, this might look like `prefix: C:\\\\Users\\\\Emily\\\\anaconda3\\\\envs\\\\GEODACenv`. On a Mac, Anaconda is installed in a slightly different place: `prefix: /opt/anaconda3/envs/GEODACenv`.\n",
    "\n",
    "Now we can create the environment using the command below:"
   ]
  },
  {
   "cell_type": "raw",
   "id": "0ad773a6",
   "metadata": {},
   "source": [
    "conda env create -f environment.yml"
   ]
  },
  {
   "cell_type": "markdown",
   "id": "1dfa55de",
   "metadata": {},
   "source": [
    "The environment.yml file tells conda the name of this environment and all the packages we want it to download. If the environment is created successfully, you should see conda installing some packages, with this message toward the end:"
   ]
  },
  {
   "cell_type": "raw",
   "id": "4710c4c6",
   "metadata": {},
   "source": [
    "Preparing transaction: done\n",
    "Verifying transaction: done\n",
    "Executing transaction: done"
   ]
  },
  {
   "cell_type": "markdown",
   "id": "58cd64b6",
   "metadata": {},
   "source": [
    "When you want to use the environment, you have to activate it. Then, to go back to the usual environment, you deactivate it. "
   ]
  },
  {
   "cell_type": "raw",
   "id": "f1ac65f0",
   "metadata": {},
   "source": [
    "conda activate GEODACenv"
   ]
  },
  {
   "cell_type": "raw",
   "id": "bb46844f",
   "metadata": {},
   "source": [
    "conda deactivate"
   ]
  },
  {
   "cell_type": "markdown",
   "id": "1533d928",
   "metadata": {},
   "source": [
    "Make sure the GEODACenv is activated for this step. We have one more library to download using pip (the data-downloader library and its dependencies). "
   ]
  },
  {
   "cell_type": "code",
   "execution_count": null,
   "id": "8e8e6791",
   "metadata": {},
   "outputs": [],
   "source": [
    "pip install data-downloader"
   ]
  },
  {
   "cell_type": "markdown",
   "id": "dd5c93ee",
   "metadata": {},
   "source": [
    "Lastly, we need to set up the environment so it can be used as a kernel in Jupyter Notebook. The kernel is like a bridge between Jupyter and the programs on our computers. The environment should be activated for this step. "
   ]
  },
  {
   "cell_type": "raw",
   "id": "685903e6",
   "metadata": {},
   "source": [
    "python -m ipykernel install --user --name=GEODACenv"
   ]
  },
  {
   "cell_type": "markdown",
   "id": "0c8e4044",
   "metadata": {},
   "source": [
    "Now that the kernel is set up, we can use it in Jupyter Notebook, so let's do that. The following command launches Jupyter Notebook provided you have installed it (py -m pip install notebook):"
   ]
  },
  {
   "cell_type": "raw",
   "id": "e69bf8d6",
   "metadata": {},
   "source": [
    "Jupyter Notebook"
   ]
  },
  {
   "cell_type": "markdown",
   "id": "08118a2e",
   "metadata": {},
   "source": [
    "In notebook, be sure to **change the kernel of the file we're working on** to the GEODACenv kernel. Click the \"kernel\" dropdown menu at the top of the page then hover over \"change kernel\" and select the GEODACenv. "
   ]
  }
 ],
 "metadata": {
  "kernelspec": {
   "display_name": "GEODACenv",
   "language": "python",
   "name": "geodacenv"
  },
  "language_info": {
   "codemirror_mode": {
    "name": "ipython",
    "version": 3
   },
   "file_extension": ".py",
   "mimetype": "text/x-python",
   "name": "python",
   "nbconvert_exporter": "python",
   "pygments_lexer": "ipython3",
   "version": "3.10.4"
  }
 },
 "nbformat": 4,
 "nbformat_minor": 5
}
