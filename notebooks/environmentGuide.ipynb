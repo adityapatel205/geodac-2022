{
 "cells": [
  {
   "cell_type": "markdown",
   "metadata": {},
   "source": [
    "# Creating our virtual environment\n",
    "\n",
    "We need some specific Python and C++ libraries in order to manipulate the datasets being used in this project. We have found that the easiest way to facilitate a standard environment across platforms is to create a virtual environment with all of the necessary components. It is assumed that you have already installed the [Anaconda distribution of Python](https://www.anaconda.com/products/distribution). \n",
    "\n",
    "We'll be installing the following libraries and their dependencies:\n",
    "\n",
    "* numpy\n",
    "* matplotlib \n",
    "* h5py\n",
    "* netCDF4\n",
    "* Cartopy\n",
    "* pandas\n",
    "* ipykernel\n",
    "* data-downloader\n",
    "\n",
    "First, open up the command prompt where we'll be creating this virtual environment. On Windows, this means opening the Anaconda prompt. On Mac or Linux, you will use your regular command line terminal. \n",
    "\n",
    "For the easiest procedure, download the **environment.yml** file provided on the github. Place the environment.yml file in your current working directory. If you type `dir` on Windows or `ls` on Mac/Linux, you should see this file in the list that prints. \n",
    "\n",
    "Next, modify the last line of the **environment.yml** file to point to the directory on your system where the environment will be saved. On Windows, this might look like `prefix: C:\\\\Users\\\\Emily\\\\anaconda3\\\\envs\\\\GEODACenv`. On a Mac, Anaconda is installed in a slightly different place: `prefix: /opt/anaconda3/envs/GEODACenv`.\n",
    "\n",
    "Now we can create the environment using the command below:"
   ]
  },
  {
   "cell_type": "raw",
   "metadata": {},
   "source": [
    "conda env create -f environment.yml"
   ]
  },
  {
   "cell_type": "markdown",
   "metadata": {},
   "source": [
    "The environment.yml file tells conda the name of this environment and all the packages we want it to download. If the environment is created successfully, you should see conda installing some packages, with this message toward the end:"
   ]
  },
  {
   "cell_type": "raw",
   "metadata": {},
   "source": [
    "Preparing transaction: done\n",
    "Verifying transaction: done\n",
    "Executing transaction: done"
   ]
  },
  {
   "cell_type": "markdown",
   "metadata": {},
   "source": [
    "When you want to use the environment, you have to activate it. Then, to go back to the usual environment, you deactivate it. "
   ]
  },
  {
   "cell_type": "raw",
   "metadata": {},
   "source": [
    "conda activate GEODACenv"
   ]
  },
  {
   "cell_type": "raw",
   "metadata": {},
   "source": [
    "conda deactivate"
   ]
  },
  {
   "cell_type": "markdown",
   "metadata": {},
   "source": [
    "Make sure the GEODACenv is activated for this step. We have one more library to download using pip (the data-downloader library and its dependencies). "
   ]
  },
  {
   "cell_type": "raw",
   "metadata": {},
   "source": [
    "pip install data-downloader"
   ]
  },
  {
   "cell_type": "markdown",
   "metadata": {},
   "source": [
    "Lastly, we need to set up the environment so it can be used as a kernel in Jupyter Notebook. The kernel is like a bridge between Jupyter and the programs on our computers. The environment should be activated for this step. \n",
    "\n",
    "You may run into some issues with this step. If so, please skip to the end of the presentation for some possible solutions. "
   ]
  },
  {
   "cell_type": "raw",
   "metadata": {},
   "source": [
    "python -m ipykernel install --user --name=GEODACenv"
   ]
  },
  {
   "cell_type": "markdown",
   "metadata": {},
   "source": [
    "Now that the kernel is set up, we can use it in Jupyter Notebook, so let's do that. The following command launches Jupyter Notebook provided you have installed it (py -m pip install notebook):"
   ]
  },
  {
   "cell_type": "raw",
   "metadata": {},
   "source": [
    "Jupyter Notebook"
   ]
  },
  {
   "cell_type": "markdown",
   "metadata": {},
   "source": [
    "In notebook, be sure to **change the kernel of the file we're working on** to the GEODACenv kernel. Click the \"kernel\" dropdown menu at the top of the page then hover over \"change kernel\" and select the GEODACenv. "
   ]
  },
  {
   "cell_type": "markdown",
   "metadata": {},
   "source": [
    "### Troubleshooting setting up the environment\n",
    "\n",
    "A common error is that it shows that there is no module named ipykernel installed. To solve this you can try:\n",
    "\n",
    "- Installing the ipykernel again by typing: "
   ]
  },
  {
   "cell_type": "raw",
   "metadata": {},
   "source": [
    "pip install ipykernel"
   ]
  },
  {
   "cell_type": "markdown",
   "metadata": {},
   "source": [
    "- If ipykernel is already installed, uninstall and reinstall the ipykernel module:"
   ]
  },
  {
   "cell_type": "raw",
   "metadata": {},
   "source": [
    "pip uninstall ipykernel\n",
    "\n",
    "pip install ipykernel"
   ]
  },
  {
   "cell_type": "markdown",
   "metadata": {},
   "source": [
    "- You can also try the command below in your Anaconda Prompt (Python):"
   ]
  },
  {
   "cell_type": "raw",
   "metadata": {},
   "source": [
    "conda install ipykernel"
   ]
  },
  {
   "cell_type": "markdown",
   "metadata": {},
   "source": [
    "After ipykernel is successfully installed, you can try setting up the kernel using the command from the main section or the other command below:"
   ]
  },
  {
   "cell_type": "raw",
   "metadata": {},
   "source": [
    "python -m ipykernel install --user --name=GEODACenv\n",
    "\n",
    "ipython kernel install --user --name= GEODACenv "
   ]
  },
  {
   "cell_type": "markdown",
   "metadata": {},
   "source": [
    "## Troubleshooting installing Cartopy\n",
    "\n",
    "If you choose to install Cartopy using either of the commands below, you may run into the error shown."
   ]
  },
  {
   "cell_type": "raw",
   "metadata": {},
   "source": [
    "pip install Cartopy\n",
    "\n",
    "conda install Cartopy"
   ]
  },
  {
   "cell_type": "raw",
   "metadata": {},
   "source": [
    "    [5 lines of output]\n",
    "    setup.py:117: UserWarning: Unable to determine GEOS version. Ensure you have 3.7.2 or later installed, or installation may fail.\n",
    "    warnings.warn(\n",
    "    setup.py:166: UserWarning: Unable to determine Proj version. Ensure you have 8.0.0 or later installed, or installation may fail.\n",
    "    warnings.warn(\n",
    "    Proj version 0.0.0 is installed, but cartopy requires at least version 8.0.0.\n",
    "    [end of output]"
   ]
  },
  {
   "cell_type": "markdown",
   "metadata": {},
   "source": [
    "What you can try is installing cartopy from the .whl. You can download one that suits your setup here: https://www.lfd.uci.edu/~gohlke/pythonlibs/#cartopy. \n",
    "\n",
    "Choose the one that suits your system. For example, if you run a 64-bit python 3.10, download Cartopy-0.20.2-cp310-cp310-win_amd64.whl. \n",
    "\n",
    "Now you can run: pip install \\path\\to\\whl\\Cartopy_file.whl like below:"
   ]
  },
  {
   "cell_type": "raw",
   "metadata": {},
   "source": [
    "pip install \"C:\\Users\\name\\Desktop\\GEODAC\\Cartopy-0.20.2-cp310-cp310-win_amd64.whl\""
   ]
  },
  {
   "cell_type": "code",
   "execution_count": null,
   "metadata": {},
   "outputs": [],
   "source": []
  }
 ],
 "metadata": {
  "kernelspec": {
<<<<<<< HEAD
   "display_name": "Python 3",
=======
   "display_name": "Python 3 (ipykernel)",
>>>>>>> 05f55d243cb204183563d853f034affb43432dec
   "language": "python",
   "name": "python3"
  },
  "language_info": {
   "codemirror_mode": {
    "name": "ipython",
    "version": 3
   },
   "file_extension": ".py",
   "mimetype": "text/x-python",
   "name": "python",
   "nbconvert_exporter": "python",
   "pygments_lexer": "ipython3",
<<<<<<< HEAD
   "version": "3.8.3"
=======
   "version": "3.9.12"
>>>>>>> 05f55d243cb204183563d853f034affb43432dec
  }
 },
 "nbformat": 4,
 "nbformat_minor": 5
}
