{
 "cells": [
  {
   "cell_type": "markdown",
   "id": "23cbdaa0",
   "metadata": {},
   "source": [
    "## CHALLENGE 1\n",
    "\n",
    "Reading your hierarchical data files"
   ]
  },
  {
   "cell_type": "markdown",
   "id": "30b40da3",
   "metadata": {},
   "source": [
    "*Note:\n",
    "You can follow the Data-Downloader Guide to download any data files you need for this challenge.*"
   ]
  },
  {
   "cell_type": "code",
   "execution_count": 1,
   "id": "6a183fae",
   "metadata": {},
   "outputs": [],
   "source": [
    "#Libraries used\n",
    "\n",
    "import numpy as np\n",
    "import h5py"
   ]
  },
  {
   "cell_type": "markdown",
   "id": "57f408e2",
   "metadata": {},
   "source": [
    "### Reading your hdf file from NASA Earthdata"
   ]
  },
  {
   "cell_type": "code",
   "execution_count": 2,
   "id": "6074d5f1",
   "metadata": {},
   "outputs": [],
   "source": [
    "# We use the File() function to open and create files\n",
    "\n",
    "viirs = h5py.File('VNP46A2.A2022252.h00v06.001.2022260143526.h5', \"r\")"
   ]
  },
  {
   "cell_type": "markdown",
   "id": "4121bbbf",
   "metadata": {},
   "source": [
    "### Valid modes of this function are:\n",
    "\n",
    "'r' - For reading only, the file must exist (it is also the default).\n",
    "\n",
    "'r+' - For reading and writing, the file must exist.\n",
    "\n",
    "'w' - Used to create a file or truncate if it exists.\n",
    "\n",
    "'w'- or x - For creating a file, the command fails if the file already exists.\n",
    "\n",
    "'a' - For reading and writing if it already exists, creates a file otherwise."
   ]
  },
  {
   "cell_type": "markdown",
   "id": "9acc38b5",
   "metadata": {},
   "source": [
    "#### Now try opening your file below "
   ]
  },
  {
   "cell_type": "code",
   "execution_count": 3,
   "id": "45359bfc",
   "metadata": {},
   "outputs": [],
   "source": [
    "#f=h5py.File('filename','mode')\n",
    "\n",
    "#"
   ]
  },
  {
   "cell_type": "markdown",
   "id": "37617a73",
   "metadata": {},
   "source": [
    "### Getting items in the base directory"
   ]
  },
  {
   "cell_type": "code",
   "execution_count": 4,
   "id": "5f9fcb0c",
   "metadata": {},
   "outputs": [
    {
     "name": "stdout",
     "output_type": "stream",
     "text": [
      "Items in the base directory: [('HDFEOS', <HDF5 group \"/HDFEOS\" (2 members)>), ('HDFEOS INFORMATION', <HDF5 group \"/HDFEOS INFORMATION\" (1 members)>)]\n"
     ]
    }
   ],
   "source": [
    "base_items=list(viirs.items())\n",
    "print('Items in the base directory:',base_items)\n",
    "\n",
    "#reading groups"
   ]
  },
  {
   "cell_type": "markdown",
   "id": "96b4dbcf",
   "metadata": {},
   "source": [
    "### Getting items from the subgroups"
   ]
  },
  {
   "cell_type": "code",
   "execution_count": 5,
   "id": "57966507",
   "metadata": {},
   "outputs": [
    {
     "name": "stdout",
     "output_type": "stream",
     "text": [
      "Items in HDFEOS [('ADDITIONAL', <HDF5 group \"/HDFEOS/ADDITIONAL\" (1 members)>), ('GRIDS', <HDF5 group \"/HDFEOS/GRIDS\" (1 members)>)]\n"
     ]
    }
   ],
   "source": [
    "#reading subgroups \n",
    "#here we are getting items from the 'HDFEOS' group\n",
    "g1=viirs.get('HDFEOS')\n",
    "g1_items=list(g1.items())\n",
    "print('Items in HDFEOS',g1_items)\n",
    "\n",
    "#Similarly we can get items of the 'HDFEOS INFORMATION' group"
   ]
  },
  {
   "cell_type": "code",
   "execution_count": 6,
   "id": "1cf4ac9b",
   "metadata": {},
   "outputs": [
    {
     "name": "stdout",
     "output_type": "stream",
     "text": [
      "Items in subgroup ADDITIONAL [('FILE_ATTRIBUTES', <HDF5 group \"/HDFEOS/ADDITIONAL/FILE_ATTRIBUTES\" (0 members)>)]\n"
     ]
    }
   ],
   "source": [
    "#Opening a subgroup\n",
    "\n",
    "g3=g1.get('ADDITIONAL') #g1 has got the group HDFEOS and from g1 we will derive the subgroups of HDFEOS\n",
    "g3_items=list(g3.items())\n",
    "print('Items in subgroup ADDITIONAL',g3_items)"
   ]
  },
  {
   "cell_type": "code",
   "execution_count": 7,
   "id": "4873c00d",
   "metadata": {},
   "outputs": [
    {
     "name": "stdout",
     "output_type": "stream",
     "text": [
      "Items in subgroup GRIDS [('VNP_Grid_DNB', <HDF5 group \"/HDFEOS/GRIDS/VNP_Grid_DNB\" (1 members)>)]\n"
     ]
    }
   ],
   "source": [
    "g4=g1.get('GRIDS') #g1 has got the group HDFEOS and from g1 we will derive the subgroups of HDFEOS\n",
    "g4_items=list(g4.items())\n",
    "print('Items in subgroup GRIDS',g4_items)"
   ]
  },
  {
   "cell_type": "code",
   "execution_count": 8,
   "id": "b2c406ee",
   "metadata": {},
   "outputs": [
    {
     "name": "stdout",
     "output_type": "stream",
     "text": [
      "Items in VNP_Grid_DNB [('DNB_BRDF-Corrected_NTL', <HDF5 dataset \"DNB_BRDF-Corrected_NTL\": shape (2400, 2400), type \"<u2\">), ('DNB_Lunar_Irradiance', <HDF5 dataset \"DNB_Lunar_Irradiance\": shape (2400, 2400), type \"<u2\">), ('Gap_Filled_DNB_BRDF-Corrected_NTL', <HDF5 dataset \"Gap_Filled_DNB_BRDF-Corrected_NTL\": shape (2400, 2400), type \"<u2\">), ('Latest_High_Quality_Retrieval', <HDF5 dataset \"Latest_High_Quality_Retrieval\": shape (2400, 2400), type \"|u1\">), ('Mandatory_Quality_Flag', <HDF5 dataset \"Mandatory_Quality_Flag\": shape (2400, 2400), type \"|u1\">), ('QF_Cloud_Mask', <HDF5 dataset \"QF_Cloud_Mask\": shape (2400, 2400), type \"<u2\">), ('Snow_Flag', <HDF5 dataset \"Snow_Flag\": shape (2400, 2400), type \"|u1\">)]\n"
     ]
    }
   ],
   "source": [
    "#We can also open the subgroups with location path\n",
    "g5=viirs.get('/HDFEOS/GRIDS/VNP_Grid_DNB/Data Fields')\n",
    "g5_items=list(g5.items())\n",
    "print('Items in VNP_Grid_DNB',g5_items)"
   ]
  },
  {
   "cell_type": "markdown",
   "id": "a0a4752a",
   "metadata": {},
   "source": [
    "### Opening a dataset"
   ]
  },
  {
   "cell_type": "code",
   "execution_count": 9,
   "id": "66680518",
   "metadata": {},
   "outputs": [],
   "source": [
    "g5=viirs.get('/HDFEOS/GRIDS/VNP_Grid_DNB/Data Fields')"
   ]
  },
  {
   "cell_type": "code",
   "execution_count": 10,
   "id": "e12fefa3",
   "metadata": {},
   "outputs": [
    {
     "name": "stdout",
     "output_type": "stream",
     "text": [
      "List of datasets in Data Fields: \n",
      " ['DNB_BRDF-Corrected_NTL', 'DNB_Lunar_Irradiance', 'Gap_Filled_DNB_BRDF-Corrected_NTL', 'Latest_High_Quality_Retrieval', 'Mandatory_Quality_Flag', 'QF_Cloud_Mask', 'Snow_Flag']\n"
     ]
    }
   ],
   "source": [
    "#Getting a list of all the datasets that are available in the path /HDFEOS/GRIDS/VNP_Grid_DNB/Data Fields\n",
    "\n",
    "ls=list(g5.keys())\n",
    "print('List of datasets in Data Fields: \\n',ls)\n"
   ]
  },
  {
   "cell_type": "code",
   "execution_count": 11,
   "id": "00ba80a0",
   "metadata": {},
   "outputs": [],
   "source": [
    "#Here we are opening the dataset and converting it into a numpy array\n",
    "#Once it is in numpy array format you can perform array functions on it\n",
    "\n",
    "data=viirs.get('StructMetadata.0')\n",
    "dataset1=np.array(data)"
   ]
  },
  {
   "cell_type": "code",
   "execution_count": 12,
   "id": "bd314d71",
   "metadata": {},
   "outputs": [
    {
     "name": "stdout",
     "output_type": "stream",
     "text": [
      "Shape of dataset1: \n",
      " ()\n",
      "[[65535 65535 65535 ... 65535 65535 65535]\n",
      " [65535 65535 65535 ... 65535 65535 65535]\n",
      " [65535 65535 65535 ... 65535 65535 65535]\n",
      " ...\n",
      " [65535 65535 65535 ... 65535 65535 65535]\n",
      " [65535 65535 65535 ... 65535 65535 65535]\n",
      " [65535 65535 65535 ... 65535 65535 65535]]\n"
     ]
    }
   ],
   "source": [
    "data1=np.array(g5.get('DNB_BRDF-Corrected_NTL'))\n",
    "print('Shape of dataset1: \\n', dataset1.shape)\n",
    "print(data1)"
   ]
  },
  {
   "cell_type": "markdown",
   "id": "161e4e27",
   "metadata": {},
   "source": [
    "### Read attributes of the dataset"
   ]
  },
  {
   "cell_type": "code",
   "execution_count": 13,
   "id": "6d875d28",
   "metadata": {},
   "outputs": [
    {
     "name": "stdout",
     "output_type": "stream",
     "text": [
      "_FillValue\n",
      "[65535]\n",
      "[65535]\n",
      "units b'nWatts/(cm^2 sr) \\n'\n"
     ]
    }
   ],
   "source": [
    "data1=g5.get('DNB_BRDF-Corrected_NTL')\n",
    "k=list(data1.attrs.keys()) #list of keys\n",
    "v=list(data1.attrs.values()) #list of values\n",
    "print(k[0]) \n",
    "print(v[0])\n",
    "\n",
    "\n",
    "#first value should correspond to the first key\n",
    "\n",
    "print(data1.attrs[k[0]]) #here we are printing the value with corresponds to the first key\n",
    "\n",
    "print(k[4],v[4])"
   ]
  },
  {
   "cell_type": "markdown",
   "id": "007f9443",
   "metadata": {},
   "source": [
    "# Try it yourself!"
   ]
  },
  {
   "cell_type": "markdown",
   "id": "40585c50",
   "metadata": {},
   "source": [
    "#### 1. Open your h5 file \n",
    "\n",
    "#### 2. Read the base directory items into a list and print \n",
    "\n",
    "#### 3. Open groups \n",
    "\n",
    "#### 4. Open subgroups \n",
    "\n",
    "#### 5. Open subgroups using the path\n",
    "\n",
    "#### 6. Open a dataset and convert into numpy array\n",
    "\n",
    "#### 7. Get list of datasets in a location\n",
    "\n",
    "#### 8. Create a list of keys and values for the datasets\n",
    "\n",
    "### *Explore similar functions for your other data files!*"
   ]
  },
  {
   "cell_type": "code",
   "execution_count": null,
   "id": "4b12a3fe",
   "metadata": {},
   "outputs": [],
   "source": []
  }
 ],
 "metadata": {
  "kernelspec": {
   "display_name": "GEODACenv",
   "language": "python",
   "name": "geodacenv"
  },
  "language_info": {
   "codemirror_mode": {
    "name": "ipython",
    "version": 3
   },
   "file_extension": ".py",
   "mimetype": "text/x-python",
   "name": "python",
   "nbconvert_exporter": "python",
   "pygments_lexer": "ipython3",
   "version": "3.10.4"
  }
 },
 "nbformat": 4,
 "nbformat_minor": 5
}
